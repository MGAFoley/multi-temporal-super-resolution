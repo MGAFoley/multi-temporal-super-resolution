{
 "cells": [
  {
   "cell_type": "code",
   "execution_count": null,
   "metadata": {},
   "outputs": [],
   "source": [
    "%load_ext autoreload\n",
    "%autoreload 2\n",
    "%cd /home/ubuntu/super-resolution/"
   ]
  },
  {
   "cell_type": "code",
   "execution_count": null,
   "metadata": {},
   "outputs": [],
   "source": [
    "import json\n",
    "\n",
    "import numpy as np\n",
    "import pandas as pd\n",
    "from fs_s3fs import S3FS\n",
    "\n",
    "import wandb\n",
    "from hrnet.src.train import main\n",
    "import torchvision\n",
    "from sr.niva_models import TorchUnetv2\n",
    "from torch import nn \n",
    "import os \n",
    "from types import SimpleNamespace\n",
    "\n",
    "\n",
    "\n",
    "aws_access_key_id = ''\n",
    "aws_secret_access_key = '\n",
    "\n",
    "filesystem = S3FS(\n",
    "    bucket_name='',\n",
    "    aws_access_key_id=aws_access_key_id,\n",
    "    aws_secret_access_key=aws_secret_access_key, \n",
    "    region='eu-central-1')\n",
    "\n",
    "country_norm_df = pd.read_parquet(filesystem.openbin('metadata/s2_norm_per_country.pq'))\n",
    "\n",
    "data_df = pd.read_parquet(filesystem.openbin('metadata/npz_info_small.pq'))\n",
    "data_df.reset_index(inplace=True)\n",
    "\n",
    "scores_df = pd.read_parquet(filesystem.openbin('baseline-scores-sr/scores-bicubic-32x32-2p5m-hm.pq')\n",
    "                            ).rename(columns={'name': 'singleton_npz_filename'})\n",
    "\n",
    "data_df = pd.merge(data_df, scores_df, on='singleton_npz_filename')\n",
    "data_df['MSE_ratio'] = data_df['MSE_s']/data_df['MSE_s_c']"
   ]
  },
  {
   "cell_type": "code",
   "execution_count": null,
   "metadata": {},
   "outputs": [],
   "source": [
    "import torch"
   ]
  },
  {
   "cell_type": "markdown",
   "metadata": {},
   "source": [
    "### Data setup"
   ]
  },
  {
   "cell_type": "code",
   "execution_count": null,
   "metadata": {},
   "outputs": [],
   "source": [
    "norm_deimos = {k: v for k, v in np.load(filesystem.openbin('metadata/deimos_min_max_norm.npz')).items()}\n",
    "norm_s2 = {k: v for k, v in np.load(filesystem.openbin('metadata/s2_min_max_norm.npz')).items()}"
   ]
  },
  {
   "cell_type": "markdown",
   "metadata": {},
   "source": [
    "# Filter data"
   ]
  },
  {
   "cell_type": "code",
   "execution_count": null,
   "metadata": {},
   "outputs": [],
   "source": [
    "filtered_data = data_df[(data_df['SSIM_s_c'] > .2) &\n",
    "                        (data_df['PSNR_s_c'] > 10) &\n",
    "                        (data_df['MSE_ratio'] < 10) &\n",
    "                        (data_df['is_shadow_v2'] == False) &\n",
    "                        (data_df['countries'] == 'Lithuania') &\n",
    "                        (data_df['num_tstamps'] > 1)]"
   ]
  },
  {
   "cell_type": "code",
   "execution_count": null,
   "metadata": {},
   "outputs": [],
   "source": [
    "len(filtered_data)"
   ]
  },
  {
   "cell_type": "markdown",
   "metadata": {},
   "source": [
    "###  Wandb setup"
   ]
  },
  {
   "cell_type": "code",
   "execution_count": null,
   "metadata": {},
   "outputs": [],
   "source": [
    "# ! wandb login "
   ]
  },
  {
   "cell_type": "markdown",
   "metadata": {
    "lines_to_next_cell": 2
   },
   "source": [
    "# Training"
   ]
  },
  {
   "cell_type": "code",
   "execution_count": null,
   "metadata": {
    "lines_to_next_cell": 2
   },
   "outputs": [],
   "source": [
    "wandb.init(project='', entity='', config=config)"
   ]
  },
  {
   "cell_type": "code",
   "execution_count": null,
   "metadata": {},
   "outputs": [],
   "source": [
    "with open('input/config-local-hrn-pix-shu.json') as f:\n",
    "    config = json.load(f)"
   ]
  },
  {
   "cell_type": "code",
   "execution_count": null,
   "metadata": {},
   "outputs": [],
   "source": [
    "MODEL_DIR = ''\n",
    "with open(os.path.join(MODEL_DIR, 'model_cfg.json'), 'r') as jfile:\n",
    "    model_cfg = json.load(jfile)\n",
    "    \n",
    "perceptual_model = TorchUnetv2(4, config=SimpleNamespace(**model_cfg))\n",
    "perceptual_model.load_state_dict(torch.load(os.path.join(MODEL_DIR, 'model.pth')))\n",
    "perceptual_model.eval()\n",
    "perceptual_model.to(torch.device('cuda'))"
   ]
  },
  {
   "cell_type": "markdown",
   "metadata": {},
   "source": [
    "# Perceptual loss model "
   ]
  },
  {
   "cell_type": "code",
   "execution_count": null,
   "metadata": {},
   "outputs": [],
   "source": [
    "model = main(config,\n",
    "             filtered_data,\n",
    "             normalize=True,\n",
    "             country_norm_df=country_norm_df,\n",
    "             norm_deimos_npz=norm_deimos,\n",
    "             norm_s2_npz=norm_s2, perceptual_loss_model=perceptual_model)"
   ]
  },
  {
   "cell_type": "code",
   "execution_count": null,
   "metadata": {},
   "outputs": [],
   "source": []
  }
 ],
 "metadata": {
  "kernelspec": {
   "display_name": "Python 3.6.9 64-bit ('venv': virtualenv)",
   "language": "python",
   "name": "python369jvsc74a57bd008539c228c0b1d46fd3ab380299090bd67be578e8cdd5c516ba9f15efc81c90d"
  },
  "language_info": {
   "codemirror_mode": {
    "name": "ipython",
    "version": 3
   },
   "file_extension": ".py",
   "mimetype": "text/x-python",
   "name": "python",
   "nbconvert_exporter": "python",
   "pygments_lexer": "ipython3",
   "version": "3.6.9"
  }
 },
 "nbformat": 4,
 "nbformat_minor": 2
}