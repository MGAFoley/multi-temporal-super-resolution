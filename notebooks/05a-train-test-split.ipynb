{
 "cells": [
  {
   "cell_type": "code",
   "execution_count": null,
   "metadata": {
    "lines_to_next_cell": 2
   },
   "outputs": [],
   "source": [
    "import numpy as np\n",
    "import pandas as pd\n",
    "from fs_s3fs import S3FS"
   ]
  },
  {
   "cell_type": "code",
   "execution_count": null,
   "metadata": {},
   "outputs": [],
   "source": [
    "aws_access_key_id = ''\n",
    "aws_secret_access_key = ''\n",
    "\n",
    "filesystem = S3FS(bucket_name='',\n",
    "                  aws_access_key_id=aws_access_key_id,\n",
    "                  aws_secret_access_key=aws_secret_access_key)"
   ]
  },
  {
   "cell_type": "code",
   "execution_count": null,
   "metadata": {},
   "outputs": [],
   "source": [
    "data_df = pd.read_parquet(filesystem.openbin('metadata/npz_info_small.pq'))"
   ]
  },
  {
   "cell_type": "code",
   "execution_count": null,
   "metadata": {},
   "outputs": [],
   "source": [
    "eops = data_df.eopatch.unique()"
   ]
  },
  {
   "cell_type": "code",
   "execution_count": null,
   "metadata": {},
   "outputs": [],
   "source": [
    "eops_train = np.random.choice(eops, size=int(len(eops)*0.6), replace=False)\n",
    "eops_val_test = list(set(eops) - set(eops_train))\n",
    "eops_test = np.random.choice(eops_val_test, size=int(len(eops_val_test)*0.5), replace=False)\n",
    "eops_val = list(set(eops) - set(eops_train) - set(eops_test))"
   ]
  },
  {
   "cell_type": "code",
   "execution_count": null,
   "metadata": {},
   "outputs": [],
   "source": [
    "assert set(eops_train).intersection(set(eops_test)) == set()\n",
    "assert set(eops_train).intersection(set(eops_val)) == set()\n",
    "assert set(eops_val).intersection(set(eops_test)) == set()\n",
    "assert set(eops_val).union(set(eops_test)).union(set(eops_train)) == set(eops)"
   ]
  },
  {
   "cell_type": "code",
   "execution_count": null,
   "metadata": {},
   "outputs": [],
   "source": [
    "def set_train_test_val(eopatch, train_set, val_set, test_set):\n",
    "    if eopatch in train_set:\n",
    "        return 'train'\n",
    "    elif eopatch in val_set:\n",
    "        return 'validation'\n",
    "    elif eopatch in test_set:\n",
    "        return 'test'\n",
    "    raise ValueError(f\"Could not find eopatch: {eopatch} in train/test/validation sets.\")"
   ]
  },
  {
   "cell_type": "code",
   "execution_count": null,
   "metadata": {},
   "outputs": [],
   "source": [
    "data_df['train_test_validation'] = data_df.eopatch.apply(\n",
    "    lambda x: set_train_test_val(x, eops_train, eops_val, eops_test))"
   ]
  },
  {
   "cell_type": "code",
   "execution_count": null,
   "metadata": {},
   "outputs": [],
   "source": [
    "with filesystem.openbin('metadata/npz_info_small.pq', 'wb') as f:\n",
    "    data_df.to_parquet(f)"
   ]
  }
 ],
 "metadata": {
  "kernelspec": {
   "display_name": "Environment (conda_pytorch_p36)",
   "language": "python",
   "name": "conda_pytorch_p36"
  }
 },
 "nbformat": 4,
 "nbformat_minor": 2
}