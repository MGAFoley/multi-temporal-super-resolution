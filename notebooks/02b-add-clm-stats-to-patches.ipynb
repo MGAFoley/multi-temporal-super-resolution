{
 "cells": [
  {
   "cell_type": "code",
   "execution_count": null,
   "metadata": {},
   "outputs": [],
   "source": [
    "import pandas as pd\n",
    "from eolearn.core import EOPatch, FeatureType, OverwritePermission\n",
    "from fs_s3fs import S3FS\n",
    "from sentinelhub import SHConfig\n",
    "from sg_utils.processing import multiprocess"
   ]
  },
  {
   "cell_type": "code",
   "execution_count": null,
   "metadata": {},
   "outputs": [],
   "source": [
    "AWS_ACCESS_KEY_ID = ''\n",
    "AWS_SECRET_ACCESS_KEY = ''"
   ]
  },
  {
   "cell_type": "code",
   "execution_count": null,
   "metadata": {},
   "outputs": [],
   "source": [
    "filesystem = S3FS(bucket_name='',\n",
    "                  aws_access_key_id=AWS_ACCESS_KEY_ID,\n",
    "                  aws_secret_access_key=AWS_SECRET_ACCESS_KEY,\n",
    "                  region='eu-central-1')"
   ]
  },
  {
   "cell_type": "code",
   "execution_count": null,
   "metadata": {},
   "outputs": [],
   "source": [
    "config = SHConfig()\n",
    "config.aws_access_key_id = AWS_ACCESS_KEY_ID\n",
    "config.aws_secret_access_key = AWS_SECRET_ACCESS_KEY"
   ]
  },
  {
   "cell_type": "code",
   "execution_count": null,
   "metadata": {},
   "outputs": [],
   "source": [
    "metadata_ms4 = pd.read_parquet(filesystem.openbin('metadata/deimos_ms4_metadata.pq'))\n",
    "metadata_pan = pd.read_parquet(filesystem.openbin('metadata/deimos_pan_metadata.pq'))\n",
    "\n",
    "metadata_ms4.START_TIME = pd.to_datetime(metadata_ms4.START_TIME)"
   ]
  },
  {
   "cell_type": "code",
   "execution_count": null,
   "metadata": {},
   "outputs": [],
   "source": [
    "DEIMOS_DIR = ''"
   ]
  },
  {
   "cell_type": "code",
   "execution_count": null,
   "metadata": {},
   "outputs": [],
   "source": [
    "metadata_pan.START_TIME = pd.to_datetime(metadata_pan.START_TIME)"
   ]
  },
  {
   "cell_type": "code",
   "execution_count": null,
   "metadata": {},
   "outputs": [],
   "source": [
    "def add_new_metadata(eop_path):\n",
    "    eop = EOPatch.load(f'{DEIMOS_DIR}/{eop_path}', filesystem=filesystem, lazy_loading=True)\n",
    "    meta_info = eop.meta_info\n",
    "    for timestamp in meta_info['metadata']:\n",
    "        stats = metadata_ms4[metadata_ms4.START_TIME == timestamp]\n",
    "        stats_pan = metadata_pan[metadata_pan.START_TIME == timestamp]\n",
    "        # Add \"cloudy\" median\n",
    "        meta_info['metadata'][timestamp]['MS4']['CLM_BAND_STATS_'] = {}\n",
    "        meta_info['metadata'][timestamp]['PAN']['CLM_BAND_STATS'] = {}\n",
    "\n",
    "        for i in range(0, 4):\n",
    "            meta_info['metadata'][timestamp]['MS4']['BAND_STATS'][f'STX_MEDIAN_{i+1}'] = stats[f'STX_MEDIAN_{i+1}'].iloc[0]\n",
    "            meta_info['metadata'][timestamp]['MS4']['CLM_BAND_STATS'][\n",
    "                f'STX_CLM_MEDIAN_{i+1}'] = stats[f'STX_CLM_MEDIAN_{i+1}'].iloc[0]\n",
    "            meta_info['metadata'][timestamp]['MS4']['CLM_BAND_STATS'][\n",
    "                f'STX_CLM_MEAN_{i+1}'] = stats[f'STX_CLM_MEAN_{i+1}'].iloc[0]\n",
    "            meta_info['metadata'][timestamp]['MS4']['CLM_BAND_STATS'][\n",
    "                f'STX_CLM_STDV_{i+1}'] = stats[f'STX_CLM_STDV_{i+1}'].iloc[0]\n",
    "\n",
    "        meta_info['metadata'][timestamp]['PAN']['BAND_STATS'][f'STX_MEDIAN_1'] = stats_pan[f'STX_MEDIAN_1'].iloc[0]\n",
    "        meta_info['metadata'][timestamp]['PAN']['CLM_BAND_STATS'][f'STX_CLM_MEDIAN_1'] = stats_pan[f'STX_CLM_MEDIAN_1'].iloc[0]\n",
    "        meta_info['metadata'][timestamp]['PAN']['CLM_BAND_STATS'][f'STX_CLM_MEAN_1'] = stats_pan[f'STX_CLM_MEAN_1'].iloc[0]\n",
    "        meta_info['metadata'][timestamp]['PAN']['CLM_BAND_STATS'][f'STX_CLM_STDV_1'] = stats_pan[f'STX_CLM_STDV_1'].iloc[0]\n",
    "\n",
    "    eop.save(path=f'{DEIMOS_DIR}/{eop_path}', filesystem=filesystem,\n",
    "             features=[FeatureType.META_INFO], overwrite_permission=OverwritePermission.OVERWRITE_FEATURES)\n",
    "\n",
    "\n",
    "def add_new_metadata_pansharpened(eop_path):\n",
    "    eop = EOPatch.load(f'{DEIMOS_DIR}/{eop_path}', filesystem=filesystem, lazy_loading=True)\n",
    "    meta_info = eop.meta_info\n",
    "    for timestamp in meta_info['metadata']:\n",
    "        stats = metadata_ms4[metadata_ms4.START_TIME == timestamp]\n",
    "        stats_pan = metadata_pan[metadata_pan.START_TIME == timestamp]\n",
    "        # Add \"cloudy\" median\n",
    "        meta_info['metadata'][timestamp]['MS4']['CLM_BAND_STATS_PANSHARPENED'] = {}\n",
    "\n",
    "        for i in range(0, 4):\n",
    "            meta_info['metadata'][timestamp]['MS4']['CLM_BAND_STATS_PANSHARPENED'][\n",
    "                f'STX_CLM_MEDIAN_PANSHARPENED_{i+1}'] = stats[f'STX_CLM_MEDIAN_PANSHARPENED_{i+1}'].iloc[0]\n",
    "            meta_info['metadata'][timestamp]['MS4']['CLM_BAND_STATS_PANSHARPENED'][\n",
    "                f'STX_CLM_MEAN_PANSHARPENED_{i+1}'] = stats[f'STX_CLM_MEAN_PANSHARPENED_{i+1}'].iloc[0]\n",
    "            meta_info['metadata'][timestamp]['MS4']['CLM_BAND_STATS_PANSHARPENED'][\n",
    "                f'STX_CLM_STDV_PANSHARPENED_{i+1}'] = stats[f'STX_CLM_STDV_PANSHARPENED_{i+1}'].iloc[0]\n",
    "\n",
    "    eop.save(path=f'{DEIMOS_DIR}/{eop_path}', filesystem=filesystem,\n",
    "             features=[FeatureType.META_INFO], overwrite_permission=OverwritePermission.OVERWRITE_FEATURES)\n",
    "\n",
    "\n",
    "def add_new_metadata_radiance(eop_path):\n",
    "    eop = EOPatch.load(f'{DEIMOS_DIR}/{eop_path}', filesystem=filesystem, lazy_loading=True)\n",
    "    meta_info = eop.meta_info\n",
    "    for timestamp in meta_info['metadata']:\n",
    "        stats = metadata_ms4[metadata_ms4.START_TIME == timestamp]\n",
    "        stats_pan = metadata_pan[metadata_pan.START_TIME == timestamp]\n",
    "        # Add \"cloudy\" median\n",
    "        meta_info['metadata'][timestamp]['MS4']['CLM_RADIANCE_BAND_STATS'] = {}\n",
    "        meta_info['metadata'][timestamp]['PAN']['CLM_RADIANCE_BAND_STATS'] = {}\n",
    "\n",
    "        for i in range(0, 4):\n",
    "            meta_info['metadata'][timestamp]['MS4']['CLM_RADIANCE_BAND_STATS'][\n",
    "                f'STX_CLM_RADIANCE_MEDIAN_{i+1}'] = stats[f'STX_CLM_RADIANCE_MEDIAN_{i+1}'].iloc[0]\n",
    "            meta_info['metadata'][timestamp]['MS4']['CLM_RADIANCE_BAND_STATS'][\n",
    "                f'STX_CLM_RADIANCE_MEAN_{i+1}'] = stats[f'STX_CLM_RADIANCE_MEAN_{i+1}'].iloc[0]\n",
    "            meta_info['metadata'][timestamp]['MS4']['CLM_RADIANCE_BAND_STATS'][\n",
    "                f'STX_CLM_RADIANCE_STDV_{i+1}'] = stats[f'STX_CLM_RADIANCE_STDV_{i+1}'].iloc[0]\n",
    "\n",
    "        meta_info['metadata'][timestamp]['PAN']['CLM_RADIANCE_BAND_STATS'][f'STX_CLM_RADIANCE_MEDIAN_1'] = stats_pan[f'STX_CLM_RADIANCE_MEDIAN_1'].iloc[0]\n",
    "        meta_info['metadata'][timestamp]['PAN']['CLM_RADIANCE_BAND_STATS'][f'STX_CLM_RADIANCE_MEAN_1'] = stats_pan[f'STX_CLM_RADIANCE_MEAN_1'].iloc[0]\n",
    "        meta_info['metadata'][timestamp]['PAN']['CLM_RADIANCE_BAND_STATS'][f'STX_CLM_RADIANCE_STDV_1'] = stats_pan[f'STX_CLM_RADIANCE_STDV_1'].iloc[0]\n",
    "\n",
    "    eop.save(path=f'{DEIMOS_DIR}/{eop_path}', filesystem=filesystem,\n",
    "             features=[FeatureType.META_INFO], overwrite_permission=OverwritePermission.OVERWRITE_FEATURES)\n",
    "\n",
    "\n",
    "def add_new_metadata_radiance_pansharpened(eop_path):\n",
    "    eop = EOPatch.load(f'{DEIMOS_DIR}/{eop_path}', filesystem=filesystem, lazy_loading=True)\n",
    "    meta_info = eop.meta_info\n",
    "    for timestamp in meta_info['metadata']:\n",
    "        stats = metadata_ms4[metadata_ms4.START_TIME == timestamp]\n",
    "        stats_pan = metadata_pan[metadata_pan.START_TIME == timestamp]\n",
    "        # Add \"cloudy\" median\n",
    "        meta_info['metadata'][timestamp]['MS4']['CLM_RADIANCE_BAND_STATS_PANSHARPENED'] = {}\n",
    "\n",
    "        for i in range(0, 4):\n",
    "            meta_info['metadata'][timestamp]['MS4']['CLM_RADIANCE_BAND_STATS_PANSHARPENED'][\n",
    "                f'STX_CLM_RADIANCE_MEDIAN_PANSHARPENED_{i+1}'] = stats[f'STX_CLM_RADIANCE_MEDIAN_PANSHARPENED_{i+1}'].iloc[0]\n",
    "            meta_info['metadata'][timestamp]['MS4']['CLM_RADIANCE_BAND_STATS_PANSHARPENED'][\n",
    "                f'STX_CLM_RADIANCE_MEAN_PANSHARPENED_{i+1}'] = stats[f'STX_CLM_RADIANCE_MEAN_PANSHARPENED_{i+1}'].iloc[0]\n",
    "            meta_info['metadata'][timestamp]['MS4']['CLM_RADIANCE_BAND_STATS_PANSHARPENED'][\n",
    "                f'STX_CLM_RADIANCE_STDV_PANSHARPENED_{i+1}'] = stats[f'STX_CLM_RADIANCE_STDV_PANSHARPENED_{i+1}'].iloc[0]\n",
    "\n",
    "    eop.save(path=f'{DEIMOS_DIR}/{eop_path}', filesystem=filesystem,\n",
    "             features=[FeatureType.META_INFO], overwrite_permission=OverwritePermission.OVERWRITE_FEATURES)"
   ]
  },
  {
   "cell_type": "code",
   "execution_count": null,
   "metadata": {
    "lines_to_next_cell": 2
   },
   "outputs": [],
   "source": [
    "multiprocess(add_new_metadata_radiance, filesystem.listdir(DEIMOS_DIR), max_workers=15)"
   ]
  },
  {
   "cell_type": "code",
   "execution_count": null,
   "metadata": {
    "lines_to_next_cell": 2
   },
   "outputs": [],
   "source": [
    "multiprocess(add_new_metadata_radiance_pansharpened, filesystem.listdir(DEIMOS_DIR), max_workers=15)"
   ]
  },
  {
   "cell_type": "code",
   "execution_count": null,
   "metadata": {
    "lines_to_next_cell": 2
   },
   "outputs": [],
   "source": [
    "eop = EOPatch.load(f'{DEIMOS_DIR}/{ filesystem.listdir(DEIMOS_DIR)[0]}', filesystem=filesystem, lazy_loading=True)"
   ]
  },
  {
   "cell_type": "code",
   "execution_count": null,
   "metadata": {},
   "outputs": [],
   "source": [
    "multiprocess(add_new_metadata, filesystem.listdir(DEIMOS_DIR), max_workers=15)"
   ]
  },
  {
   "cell_type": "code",
   "execution_count": null,
   "metadata": {},
   "outputs": [],
   "source": [
    "multiprocess(add_new_metadata_pansharpened, filesystem.listdir(DEIMOS_DIR), max_workers=15)"
   ]
  },
  {
   "cell_type": "code",
   "execution_count": null,
   "metadata": {},
   "outputs": [],
   "source": [
    "DEIMOS_DIR = ''"
   ]
  },
  {
   "cell_type": "code",
   "execution_count": null,
   "metadata": {},
   "outputs": [],
   "source": [
    "multiprocess(add_new_metadata_radiance_pansharpened, filesystem.listdir(DEIMOS_DIR), max_workers=15)"
   ]
  },
  {
   "cell_type": "code",
   "execution_count": null,
   "metadata": {},
   "outputs": [],
   "source": [
    "multiprocess(add_new_metadata_pansharpened, filesystem.listdir(DEIMOS_DIR), max_workers=15)"
   ]
  }
 ],
 "metadata": {
  "kernelspec": {
   "display_name": "Environment (conda_tensorflow2_p36)",
   "language": "python",
   "name": "conda_tensorflow2_p36"
  },
  "language_info": {
   "codemirror_mode": {
    "name": "ipython",
    "version": 3
   },
   "file_extension": ".py",
   "mimetype": "text/x-python",
   "name": "python",
   "nbconvert_exporter": "python",
   "pygments_lexer": "ipython3",
   "version": "3.6.5"
  }
 },
 "nbformat": 4,
 "nbformat_minor": 2
}