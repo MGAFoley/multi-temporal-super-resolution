{
 "cells": [
  {
   "cell_type": "markdown",
   "metadata": {},
   "source": [
    "# Read DEIMOS metadata from XML file\n",
    "\n",
    "Extract relevant information about the DEIMOS bands into dataframes.\n",
    "\n",
    "**NOTE**: DEIMOS bands are provided as `NIR-R-G-B`, while we store them in `EOPatches` as `B-G-R-NIR` as in Sentinel-2 datasets. This means that we will have to swap the info read from XML files in `split_per_band`."
   ]
  },
  {
   "cell_type": "code",
   "execution_count": null,
   "metadata": {
    "lines_to_end_of_cell_marker": 2
   },
   "outputs": [],
   "source": [
    "import os\n",
    "from xml.etree import ElementTree as ET\n",
    "\n",
    "import pandas as pd\n",
    "from fs_s3fs import S3FS"
   ]
  },
  {
   "cell_type": "markdown",
   "metadata": {},
   "source": [
    "## Config"
   ]
  },
  {
   "cell_type": "code",
   "execution_count": null,
   "metadata": {},
   "outputs": [],
   "source": [
    "instance_id = ''\n",
    "aws_access_key_id = ''\n",
    "aws_secret_access_key = ''"
   ]
  },
  {
   "cell_type": "code",
   "execution_count": null,
   "metadata": {},
   "outputs": [],
   "source": [
    "filesystem = S3FS(bucket_name='',\n",
    "                  aws_access_key_id=aws_access_key_id,\n",
    "                  aws_secret_access_key=aws_secret_access_key)"
   ]
  },
  {
   "cell_type": "code",
   "execution_count": null,
   "metadata": {},
   "outputs": [],
   "source": [
    "tiles_folder = ''"
   ]
  },
  {
   "cell_type": "code",
   "execution_count": null,
   "metadata": {},
   "outputs": [],
   "source": [
    "def tag_parser(el_iterator, vals_dict, attr='text', attrib_key=None):\n",
    "    for sub in el_iterator:\n",
    "        if attr == 'attrib':\n",
    "            vals_dict[sub.tag] = getattr(sub, attr)[attrib_key]\n",
    "        else:\n",
    "            vals_dict[sub.tag] = getattr(sub, attr)\n",
    "\n",
    "\n",
    "def multitag_parser(el_iterator, vals_dict, attr='text'):\n",
    "    children = []\n",
    "    for sub in el_iterator:\n",
    "        tag_name = sub.tag\n",
    "        x = {}\n",
    "        tag_parser(sub.getchildren(), x)\n",
    "        children.append(x)\n",
    "    vals_dict[tag_name] = children\n",
    "\n",
    "\n",
    "def parse_bbox(el_iterator, vals_dict, outname, use_xy=True):\n",
    "    appendices = ['X', 'Y'] if use_xy else ['LAT', 'LON']\n",
    "    vertex_dict = {f'FRAME_{appendix}': [] for appendix in appendices}\n",
    "    for vertex in el_iterator:\n",
    "        for appendix in appendices:\n",
    "            vertex_dict[f'FRAME_{appendix}'].append(vertex.find(f'./FRAME_{appendix}').text)\n",
    "\n",
    "    if use_xy:\n",
    "        vals_dict[outname] = [min(vertex_dict['FRAME_X']), min(vertex_dict['FRAME_Y']),\n",
    "                              max(vertex_dict['FRAME_X']), max(vertex_dict['FRAME_Y'])]\n",
    "    else:\n",
    "        vals_dict[outname] = [min(vertex_dict['FRAME_LAT']), min(vertex_dict['FRAME_LON']),\n",
    "                              max(vertex_dict['FRAME_LAT']), max(vertex_dict['FRAME_LON'])]\n",
    "\n",
    "\n",
    "def split_per_band(columns, column, query_keys, revert_bands=True,\n",
    "                   index_col='BAND_INDEX', n_bands=4):\n",
    "\n",
    "    for valdict in columns[column]:\n",
    "        if all([key in set(valdict.keys()) for key in query_keys]):\n",
    "            for key in query_keys:\n",
    "                idx = int(valdict[index_col])\n",
    "                if revert_bands:\n",
    "                    idx = n_bands-idx+1\n",
    "                columns[f'{key}_{idx}'] = valdict[key]\n",
    "    columns.pop(column, None)\n",
    "\n",
    "\n",
    "def parse_deimos_metadata_file(metadata_file, filesystem):\n",
    "    tree = ET.parse(filesystem.open(metadata_file))\n",
    "    root = tree.getroot()\n",
    "    columns = {}\n",
    "    tag_parser(root.findall('./Dataset_Id/'), columns)\n",
    "    tag_parser(root.findall('./Production/'), columns)\n",
    "    tag_parser(root.findall('./Data_Processing/'), columns)\n",
    "    tag_parser(root.findall('./Raster_CS/'), columns)\n",
    "    parse_bbox(root.findall('./Dataset_Frame/'), columns, 'bbox')\n",
    "    tag_parser(root.findall('./Raster_Encoding/'), columns)\n",
    "    tag_parser(root.findall('./Data_Access/'), columns)\n",
    "    tag_parser(root.findall('./Data_Access/Data_File/'), columns, attr='attrib', attrib_key='href')\n",
    "    tag_parser(root.findall('./Raster_Dimensions/'), columns)\n",
    "    multitag_parser(root.findall('./Image_Interpretation/'), columns)\n",
    "    multitag_parser(root.findall('./Image_Display/'), columns)\n",
    "    tag_parser(root.findall('./Dataset_Sources/Source_Information/Coordinate_Reference_System/'), columns)\n",
    "    tag_parser(root.findall('./Dataset_Sources/Source_Information/Scene_Source/'), columns)\n",
    "    multitag_parser(root.findall('./Dataset_Sources/Source_Information/Quality_Assessment/'), columns)\n",
    "    parse_bbox(root.findall('./Dataset_Sources/Source_Information/Source_Frame/'),\n",
    "               columns, 'source_frame_bbox_latlon', use_xy=False)\n",
    "\n",
    "    split_per_band(columns,\n",
    "                   'Band_Statistics',\n",
    "                   ['STX_STDV', 'STX_MEAN', 'STX_MIN', 'STX_MAX'])\n",
    "    split_per_band(columns,\n",
    "                   'Spectral_Band_Info',\n",
    "                   ['PHYSICAL_GAIN', 'PHYSICAL_BIAS', 'PHYSICAL_UNIT', 'ESUN'])\n",
    "    return pd.DataFrame([columns])"
   ]
  },
  {
   "cell_type": "code",
   "execution_count": null,
   "metadata": {},
   "outputs": [],
   "source": [
    "ms4_dfs = []\n",
    "pan_dfs = []\n",
    "\n",
    "tiles = filesystem.listdir(tiles_folder)\n",
    "\n",
    "for tile in tiles:\n",
    "    # this is needed because folder was copied from somewhere else\n",
    "    if not filesystem.exists(f'{tiles_folder}/{tile}'):\n",
    "        filesystem.makedirs(f'{tiles_folder}/{tile}')\n",
    "\n",
    "    metadata = filesystem.listdir(f'{tiles_folder}/{tile}')\n",
    "    metadata = [meta for meta in metadata if os.path.splitext(meta)[-1] == '.dim']\n",
    "\n",
    "    metadata_file_ms4 = metadata[0] if '_MS4_' in metadata[0] else metadata[1]\n",
    "    metadata_file_pan = metadata[0] if '_PAN_' in metadata[0] else metadata[1]\n",
    "\n",
    "    ms4_dfs.append(parse_deimos_metadata_file(f'{tiles_folder}/{tile}/{metadata_file_ms4}',\n",
    "                                              filesystem))\n",
    "    pan_dfs.append(parse_deimos_metadata_file(f'{tiles_folder}/{tile}/{metadata_file_pan}',\n",
    "                                              filesystem))\n",
    "\n",
    "ms4_metadata = pd.concat(ms4_dfs)\n",
    "pan_metadata = pd.concat(pan_dfs)"
   ]
  },
  {
   "cell_type": "code",
   "execution_count": null,
   "metadata": {},
   "outputs": [],
   "source": [
    "ms4_metadata.to_parquet(filesystem.openbin('metadata/deimos_ms4_metadata.pq', 'wb'))\n",
    "pan_metadata.to_parquet(filesystem.openbin('metadata/deimos_pan_metadata.pq', 'wb'))"
   ]
  }
 ],
 "metadata": {
  "kernelspec": {
   "display_name": "Python 3",
   "language": "python",
   "name": "python3"
  }
 },
 "nbformat": 4,
 "nbformat_minor": 2
}