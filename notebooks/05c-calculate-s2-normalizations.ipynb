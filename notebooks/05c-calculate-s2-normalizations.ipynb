{
 "cells": [
  {
   "cell_type": "code",
   "execution_count": null,
   "metadata": {},
   "outputs": [],
   "source": [
    "import numpy as np\n",
    "from eolearn.core import EOPatch\n",
    "from sentinelhub import SHConfig\n",
    "from fs_s3fs import S3FS\n",
    "import pandas as pd\n",
    "from matplotlib import pyplot as plt \n",
    "from collections import defaultdict\n",
    "from datetime import datetime\n",
    "import seaborn as sns\n",
    "from tqdm.auto import tqdm\n",
    "import os "
   ]
  },
  {
   "cell_type": "code",
   "execution_count": null,
   "metadata": {},
   "outputs": [],
   "source": [
    "config = SHConfig()\n",
    "config.aws_access_key_id = ''\n",
    "config.aws_secret_access_key = ''"
   ]
  },
  {
   "cell_type": "markdown",
   "metadata": {},
   "source": [
    "# Per timestamp"
   ]
  },
  {
   "cell_type": "code",
   "execution_count": null,
   "metadata": {},
   "outputs": [],
   "source": [
    "\n",
    "filesystem = S3FS(bucket_name='', \n",
    "                      aws_access_key_id=config.aws_access_key_id, \n",
    "                      aws_secret_access_key=config.aws_secret_access_key)"
   ]
  },
  {
   "cell_type": "code",
   "execution_count": null,
   "metadata": {},
   "outputs": [],
   "source": [
    "NPZ_LOC = ''"
   ]
  },
  {
   "cell_type": "code",
   "execution_count": null,
   "metadata": {},
   "outputs": [],
   "source": [
    "metadata_ms4 = pd.read_parquet(filesystem.openbin('metadata/deimos_ms4_metadata.pq'))\n",
    "metadata_pan = pd.read_parquet(filesystem.openbin('metadata/deimos_pan_metadata.pq'))"
   ]
  },
  {
   "cell_type": "code",
   "execution_count": null,
   "metadata": {},
   "outputs": [],
   "source": [
    "metadata_ms4['country'] = metadata_ms4.Projection_OGCWKT.apply(lambda x: 'Lithuania' if '34N' in x else 'Cyprus')"
   ]
  },
  {
   "cell_type": "code",
   "execution_count": null,
   "metadata": {},
   "outputs": [],
   "source": [
    "timestamp_data_map = defaultdict(list)\n",
    "for npz_file in tqdm(chosen_samples):\n",
    "    npz = np.load(filesystem.openbin(f'{NPZ_LOC}/{npz_file}'), allow_pickle=True)\n",
    "    timestamp_data_map[npz['timetamps_deimos'].item()].append(npz['features'])"
   ]
  },
  {
   "cell_type": "code",
   "execution_count": null,
   "metadata": {},
   "outputs": [],
   "source": [
    "df_dicts = [] \n",
    "for ts, ts_values in timestamp_data_map.items():\n",
    "    joined = np.concatenate(ts_values)\n",
    "    mean = np.mean(joined, axis=(0, 1, 2))\n",
    "    median = np.median(joined, axis=(0, 1, 2))\n",
    "    std = np.std(joined, axis=(0, 1, 2))\n",
    "    \n",
    "    df_dicts.append({'timestamp': ts, 'mean': mean, 'median': median, 'std': std})\n",
    "df_norm_s2 = pd.DataFrame(df_dicts)"
   ]
  },
  {
   "cell_type": "code",
   "execution_count": null,
   "metadata": {},
   "outputs": [],
   "source": [
    "for i in range(0, 4): \n",
    "    df_norm_s2[f'MEAN_{i}'] = df_norm_s2['mean'].apply(lambda x: x[i])\n",
    "    df_norm_s2[f'STD_{i}'] = df_norm_s2['std'].apply(lambda x: x[i])\n",
    "    df_norm_s2[f'MEDIAN_{i}'] = df_norm_s2['median'].apply(lambda x: x[i])"
   ]
  },
  {
   "cell_type": "code",
   "execution_count": null,
   "metadata": {},
   "outputs": [],
   "source": [
    "df_norm_s2_per_timestamp = df_norm_s2.set_index('timestamp').join(metadata_ms4[['START_TIME', 'country']].set_index('START_TIME')).reset_index()"
   ]
  },
  {
   "cell_type": "code",
   "execution_count": null,
   "metadata": {},
   "outputs": [],
   "source": [
    "fg = sns.FacetGrid(data=df_norm_s2_per_timestamp, hue='country', aspect=2.5, size=6)\n",
    "fg.map(plt.scatter, 'timestamp', 'MEDIAN_2').add_legend()\n"
   ]
  },
  {
   "cell_type": "markdown",
   "metadata": {},
   "source": [
    "# Per country"
   ]
  },
  {
   "cell_type": "code",
   "execution_count": null,
   "metadata": {},
   "outputs": [],
   "source": [
    "timestamp_country_map = {ts: country for ts,country in metadata_ms4[['START_TIME', 'country']].values}"
   ]
  },
  {
   "cell_type": "code",
   "execution_count": null,
   "metadata": {},
   "outputs": [],
   "source": [
    "country_data_map = defaultdict(list)"
   ]
  },
  {
   "cell_type": "code",
   "execution_count": null,
   "metadata": {},
   "outputs": [],
   "source": [
    "NPZ_LOC = ''"
   ]
  },
  {
   "cell_type": "code",
   "execution_count": null,
   "metadata": {},
   "outputs": [],
   "source": [
    "sample_filenames = os.listdir(NPZ_LOC)\n",
    "chosen_samples = np.random.choice(sample_filenames, int(len(sample_filenames)*0.1), replace=False)"
   ]
  },
  {
   "cell_type": "code",
   "execution_count": null,
   "metadata": {},
   "outputs": [],
   "source": [
    "for npz_file in tqdm(chosen_samples):\n",
    "    npz = np.load(f'{NPZ_LOC}/{npz_file}', allow_pickle=True)\n",
    "                                    \n",
    "    country = timestamp_country_map[npz['timetamps_deimos'].item()]\n",
    "    country_data_map[country].append(npz['features'])"
   ]
  },
  {
   "cell_type": "code",
   "execution_count": null,
   "metadata": {},
   "outputs": [],
   "source": [
    "df_dicts = [] \n",
    "for country, country_values in country_data_map.items():\n",
    "    joined = np.concatenate(country_values)\n",
    "    mean = np.mean(joined, axis=(0, 1, 2))\n",
    "    median = np.median(joined, axis=(0, 1, 2))\n",
    "    std = np.std(joined, axis=(0, 1, 2))\n",
    "    \n",
    "    df_dicts.append({'country': country, \n",
    "                     'mean_0': mean[0], 'mean_1': mean[1], 'mean_2': mean[2], 'mean_3': mean[3],\n",
    "                     'median_0': median[0], 'median_1': median[1], 'median_2': median[2], 'median_3': median[3],\n",
    "                     'std_0': std[0], 'std_1': std[1], 'std_2': std[2], 'std_3': std[3]})\n",
    "\n",
    "df_norm_s2_per_country = pd.DataFrame(df_dicts)"
   ]
  },
  {
   "cell_type": "code",
   "execution_count": null,
   "metadata": {},
   "outputs": [],
   "source": [
    "df_norm_s2_per_country"
   ]
  },
  {
   "cell_type": "code",
   "execution_count": null,
   "metadata": {},
   "outputs": [],
   "source": [
    "df_norm_s2_per_country.to_parquet(filesystem.openbin('metadata/s2_norm_per_country.pq', 'wb'))"
   ]
  }
 ],
 "metadata": {
  "kernelspec": {
   "display_name": "Environment (conda_tensorflow2_p36)",
   "language": "python",
   "name": "conda_tensorflow2_p36"
  },
  "language_info": {
   "codemirror_mode": {
    "name": "ipython",
    "version": 3
   },
   "file_extension": ".py",
   "mimetype": "text/x-python",
   "name": "python",
   "nbconvert_exporter": "python",
   "pygments_lexer": "ipython3",
   "version": "3.6.5"
  }
 },
 "nbformat": 4,
 "nbformat_minor": 2
}