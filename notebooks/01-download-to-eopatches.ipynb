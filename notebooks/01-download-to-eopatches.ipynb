{
 "cells": [
  {
   "cell_type": "code",
   "execution_count": null,
   "metadata": {},
   "outputs": [],
   "source": [
    "%matplotlib inline"
   ]
  },
  {
   "cell_type": "code",
   "execution_count": null,
   "metadata": {
    "lines_to_end_of_cell_marker": 2
   },
   "outputs": [],
   "source": [
    "from datetime import timedelta\n",
    "\n",
    "import geopandas as gpd\n",
    "import numpy as np\n",
    "import pandas as pd\n",
    "from eolearn.core import (\n",
    "    EOExecutor,\n",
    "    EOPatch,\n",
    "    EOTask,\n",
    "    EOWorkflow,\n",
    "    FeatureType,\n",
    "    OverwritePermission,\n",
    "    SaveTask,\n",
    ")\n",
    "from eolearn.io import SentinelHubInputTask\n",
    "from fs_s3fs import S3FS\n",
    "from matplotlib import pyplot as plt\n",
    "from sentinelhub import DataCollection, SHConfig, UtmZoneSplitter"
   ]
  },
  {
   "cell_type": "markdown",
   "metadata": {},
   "source": [
    "# Config"
   ]
  },
  {
   "cell_type": "code",
   "execution_count": null,
   "metadata": {},
   "outputs": [],
   "source": [
    "config = SHConfig()\n",
    "config.sh_client_id = ''\n",
    "config.sh_client_secret = ''\n",
    "config.instance_id = ''\n",
    "config.aws_access_key_id = ''\n",
    "config.aws_secret_access_key = ''"
   ]
  },
  {
   "cell_type": "code",
   "execution_count": null,
   "metadata": {},
   "outputs": [],
   "source": [
    "test_area_cyprus = gpd.read_file('../input/TestAreaCyprus.geojson')\n",
    "test_area_lithuania = gpd.read_file('../input/TestAreaLithuania.geojson')"
   ]
  },
  {
   "cell_type": "code",
   "execution_count": null,
   "metadata": {},
   "outputs": [],
   "source": [
    "filesystem = S3FS(bucket_name='',\n",
    "                  aws_access_key_id=config.aws_access_key_id,\n",
    "                  aws_secret_access_key=config.aws_secret_access_key)"
   ]
  },
  {
   "cell_type": "markdown",
   "metadata": {},
   "source": [
    "# Load metadata"
   ]
  },
  {
   "cell_type": "code",
   "execution_count": null,
   "metadata": {},
   "outputs": [],
   "source": [
    "metadata_ms4 = pd.read_parquet(filesystem.openbin('metadata/deimos_ms4_metadata.pq'))\n",
    "metadata_pan = pd.read_parquet(filesystem.openbin('metadata/deimos_pan_metadata.pq'))"
   ]
  },
  {
   "cell_type": "markdown",
   "metadata": {},
   "source": [
    "# Split into small bboxes"
   ]
  },
  {
   "cell_type": "code",
   "execution_count": null,
   "metadata": {},
   "outputs": [],
   "source": [
    "bbox_splitter = UtmZoneSplitter(test_area_lithuania.geometry.to_list(\n",
    ") + test_area_cyprus.geometry.to_list(), crs=test_area_lithuania.crs, bbox_size=2000)"
   ]
  },
  {
   "cell_type": "code",
   "execution_count": null,
   "metadata": {},
   "outputs": [],
   "source": [
    "bboxes = bbox_splitter.get_bbox_list(buffer=0.2)"
   ]
  },
  {
   "cell_type": "markdown",
   "metadata": {},
   "source": [
    "# Download data from SH service"
   ]
  },
  {
   "cell_type": "markdown",
   "metadata": {},
   "source": [
    "Downloads data:\n",
    "\n",
    "1. Sentinel-2 data in interval 2020-04-01 - 2020-10-01\n",
    "2. Deimos MS4 bands\n",
    "3. Deimos PAN band\n",
    "4. Deimos pansharpened\n",
    "\n",
    "Downloads everything as digital numbers. The Deimos data is saved to one eopatch, S-2 data to another. This is due to the fact that the acquisition timestamps are different for these two data sources. Metadata is also added to S-2 bands that can be used for normalizing."
   ]
  },
  {
   "cell_type": "code",
   "execution_count": null,
   "metadata": {},
   "outputs": [],
   "source": [
    "evalscript_pansharp = '''\n",
    "//VERSION=3\n",
    "\n",
    "function setup() {\n",
    "    return {\n",
    "        input: [{\n",
    "            bands: [\"B01\", \"B02\", \"B03\", \"B04\", \"PAN\", \"dataMask\"],\n",
    "            units: [\"DN\", \"DN\", \"DN\", \"DN\", \"DN\", \"DN\"]\n",
    "        }],\n",
    "        output: [\n",
    "            { id:\"bands\", bands:4, sampleType: SampleType.UINT16 }, \n",
    "            { id:\"bool_mask\", bands:1, sampleType: SampleType.UINT8 },\n",
    "        ]\n",
    "    }\n",
    "}\n",
    "\n",
    "function updateOutputMetadata(scenes, inputMetadata, outputMetadata) {\n",
    "    outputMetadata.userData = { \"norm_factor\":  inputMetadata.normalizationFactor }\n",
    "}\n",
    "\n",
    "function evaluatePixel(sample) {\n",
    "  let sudoPanW = (sample.B01 + sample.B02 + sample.B03 + sample.B04) / 4\n",
    "  let ratioW = sample.PAN / sudoPanW\n",
    "  let red = sample.B02 * ratioW\n",
    "  let green = sample.B03 * ratioW\n",
    "  let blue = sample.B04 * ratioW\n",
    "  let nir = sample.B01 * ratioW \n",
    "  return {bands: [blue, green, red, nir], bool_mask: [sample.dataMask]};\n",
    "}\n",
    "'''"
   ]
  },
  {
   "cell_type": "code",
   "execution_count": null,
   "metadata": {},
   "outputs": [],
   "source": [
    "# Download Sentinel-2 data\n",
    "\n",
    "get_s2_data = SentinelHubInputTask(\n",
    "    bands_feature=(FeatureType.DATA, 'BANDS'),\n",
    "    bands=['B02', 'B03', 'B04', 'B08'],\n",
    "    resolution=10,\n",
    "    maxcc=0.5,\n",
    "    time_difference=timedelta(minutes=120),\n",
    "    data_collection=DataCollection.SENTINEL2_L1C,\n",
    "    additional_data=[(FeatureType.MASK, 'dataMask', 'IS_DATA'),\n",
    "                     (FeatureType.MASK, 'CLM'),\n",
    "                     (FeatureType.DATA, 'CLP')],\n",
    "    max_threads=5,\n",
    "    config=config,\n",
    "    bands_dtype=np.uint16\n",
    ")\n",
    "\n",
    "# Download pansharpened Deimos.\n",
    "get_deimos_data_pansharpened = SentinelHubInputTask(\n",
    "    bands_feature=(FeatureType.DATA, 'BANDS-DEIMOS'),\n",
    "    bands=['B01', 'B02', 'B03', 'B04'],  # B, G, R, NIR\n",
    "    resolution=2.5,\n",
    "    time_difference=timedelta(minutes=120),\n",
    "    data_collection=DataCollection.define_byoc(''), # INPUT BYOC COLLECTION ID HERE\n",
    "    additional_data=[(FeatureType.MASK, 'dataMask', 'IS_DATA')],\n",
    "    max_threads=5,\n",
    "    evalscript=evalscript_pansharp,\n",
    "    config=config,\n",
    "    bands_dtype=np.uint16,\n",
    "    aux_request_args=dict(processing=dict(upsampling='BICUBIC',\n",
    "                                          downsampling='BICUBIC'))\n",
    ")\n",
    "\n",
    "\n",
    "save_s2 = SaveTask('', # INPUT WHERE TO SAVE S-2 PATCHES\n",
    "                   config=config,\n",
    "                   overwrite_permission=OverwritePermission.OVERWRITE_PATCH)\n",
    "save_dm = SaveTask('', # INPUT WHERE TO SAVE Deimos PATCHES\n",
    "                   config=config,\n",
    "                   overwrite_permission=OverwritePermission.OVERWRITE_FEATURES)"
   ]
  },
  {
   "cell_type": "code",
   "execution_count": null,
   "metadata": {},
   "outputs": [],
   "source": [
    "class AddMetaData(EOTask):\n",
    "    \"\"\" Adds metadata to Deimos EOPatch. Uses dataframe with metadata that was parsed from tile .dim files. \"\"\"\n",
    "\n",
    "    def __init__(self, metadata_ms4, metadata_pan):\n",
    "        self.metadata_ms4 = metadata_ms4\n",
    "        self.metadata_pan = metadata_pan\n",
    "\n",
    "    def _create_meta_data_dict(self, eop):\n",
    "        meta_info_dict = {}\n",
    "        for ts in eop.timestamp:\n",
    "            metadata_pan_ts = self.metadata_pan[self.metadata_pan.START_TIME ==\n",
    "                                                ts.strftime('%Y-%m-%dT%H:%M:%S')].reset_index()\n",
    "            metadata_ms4_ts = self.metadata_ms4[self.metadata_ms4.START_TIME ==\n",
    "                                                ts.strftime('%Y-%m-%dT%H:%M:%S')].reset_index()\n",
    "\n",
    "            bands_stats_ms4 = metadata_ms4_ts[['STX_STDV_1', 'STX_MEAN_1', 'STX_MIN_1',\n",
    "                                               'STX_MAX_1', 'STX_STDV_2', 'STX_MEAN_2',\n",
    "                                               'STX_MIN_2', 'STX_MAX_2', 'STX_STDV_3',\n",
    "                                               'STX_MEAN_3', 'STX_MIN_3', 'STX_MAX_3',\n",
    "                                               'STX_STDV_4', 'STX_MEAN_4', 'STX_MIN_4', 'STX_MAX_4']].to_dict(orient='index')[0]\n",
    "\n",
    "            bands_physical_info_ms4 = metadata_ms4_ts[['PHYSICAL_GAIN_1', 'PHYSICAL_BIAS_1', 'PHYSICAL_UNIT_1',\n",
    "                                                       'ESUN_1', 'PHYSICAL_GAIN_2', 'PHYSICAL_BIAS_2',\n",
    "                                                       'PHYSICAL_UNIT_2', 'ESUN_2', 'PHYSICAL_GAIN_3',\n",
    "                                                       'PHYSICAL_BIAS_3', 'PHYSICAL_UNIT_3', 'ESUN_3',\n",
    "                                                       'PHYSICAL_GAIN_4', 'PHYSICAL_BIAS_4', 'PHYSICAL_UNIT_4',\n",
    "                                                       'ESUN_4']].to_dict(orient='index')[0]\n",
    "\n",
    "            bands_stats_pan = metadata_pan_ts[['STX_STDV_4', 'STX_MEAN_4',\n",
    "                                               'STX_MIN_4', 'STX_MAX_4']].to_dict(orient='index')[0]\n",
    "\n",
    "            bands_physical_info_pan = metadata_pan_ts[['PHYSICAL_GAIN_4', 'PHYSICAL_BIAS_4',\n",
    "                                                       'PHYSICAL_UNIT_4',\n",
    "                                                       'ESUN_4']].to_dict(orient='index')[0]\n",
    "\n",
    "            meta_info_dict[ts] = {'MS4': {'BAND_STATS': bands_stats_ms4, 'PHYSICAL_INFO': bands_physical_info_ms4},\n",
    "                                  'PAN': {'BAND_STATS': bands_stats_pan, 'PHYSICAL_INFO': bands_physical_info_pan}}\n",
    "        return meta_info_dict\n",
    "\n",
    "    def execute(self, eop):\n",
    "        meta_data_dict = self._create_meta_data_dict(eop)\n",
    "        eop.meta_info['metadata'] = meta_data_dict\n",
    "        return eop"
   ]
  },
  {
   "cell_type": "code",
   "execution_count": null,
   "metadata": {},
   "outputs": [],
   "source": [
    "add_metadata = AddMetaData(metadata_ms4, metadata_pan)"
   ]
  },
  {
   "cell_type": "code",
   "execution_count": null,
   "metadata": {},
   "outputs": [],
   "source": [
    "# Execute the workflow\n",
    "time_interval = ['2020-04-01', '2020-10-31']  # time interval for the SH request\n",
    "\n",
    "# define additional parameters of the workflow\n",
    "execution_args = []\n",
    "for idx, bbox in enumerate(bboxes):\n",
    "    execution_args.append({\n",
    "        get_deimos_data_pansharpened: {'bbox': bbox, 'time_interval': time_interval},\n",
    "        get_s2_data: {'bbox': bbox, 'time_interval': time_interval},\n",
    "        save_s2: {'eopatch_folder': f'eopatch-{idx:04d}'},\n",
    "        save_dm: {'eopatch_folder': f'eopatch-{idx:04d}'}\n",
    "    })"
   ]
  },
  {
   "cell_type": "code",
   "execution_count": null,
   "metadata": {},
   "outputs": [],
   "source": [
    "workflow = EOWorkflow([\n",
    "    (get_s2_data, [], 'Get S2 data'),\n",
    "    (get_deimos_data_pansharpened, [], 'Get Deimos pansharpened'),\n",
    "    (add_metadata, [get_deimos_data_pansharpened], 'Add metadata to DEIMOS'),\n",
    "    (save_s2, [get_s2_data], 'save S2 data'),\n",
    "    (save_dm, [add_metadata], 'save deimos data')\n",
    "])"
   ]
  },
  {
   "cell_type": "code",
   "execution_count": null,
   "metadata": {},
   "outputs": [],
   "source": [
    "len(execution_args)"
   ]
  },
  {
   "cell_type": "code",
   "execution_count": null,
   "metadata": {},
   "outputs": [],
   "source": [
    "executor = EOExecutor(workflow, execution_args, save_logs=True)\n",
    "results = executor.run(workers=10, multiprocess=False)\n",
    "executor.make_report()"
   ]
  },
  {
   "cell_type": "code",
   "execution_count": null,
   "metadata": {},
   "outputs": [],
   "source": [
    "eop_d = EOPatch.load('', # SAMPLE DEIMOS PATCH PATH\n",
    "                     filesystem=filesystem)\n",
    "eop_s2 = EOPatch.load('', # SAMPLE S-2 PATCH PATH\n",
    "                      filesystem=filesystem)"
   ]
  },
  {
   "cell_type": "code",
   "execution_count": null,
   "metadata": {},
   "outputs": [],
   "source": [
    "eop_d"
   ]
  },
  {
   "cell_type": "code",
   "execution_count": null,
   "metadata": {},
   "outputs": [],
   "source": [
    "fig, ax = plt.subplots(2, figsize=(15, 15))\n",
    "ax[0].imshow(eop_d.data['BANDS-DEIMOS'][5][..., [2, 1, 0]] / 10000 * 1.5)\n",
    "ax[1].imshow(eop_s2.data['BANDS'][-7][..., [2, 1, 0]] / 10000 * 3.5)"
   ]
  }
 ],
 "metadata": {
  "kernelspec": {
   "display_name": "Python 3",
   "language": "python",
   "name": "python3"
  },
  "language_info": {
   "codemirror_mode": {
    "name": "ipython",
    "version": 3
   },
   "file_extension": ".py",
   "mimetype": "text/x-python",
   "name": "python",
   "nbconvert_exporter": "python",
   "pygments_lexer": "ipython3",
   "version": "3.6.6"
  }
 },
 "nbformat": 4,
 "nbformat_minor": 2
}