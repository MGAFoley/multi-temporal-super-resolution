{
 "cells": [
  {
   "cell_type": "code",
   "execution_count": null,
   "metadata": {},
   "outputs": [],
   "source": [
    "%reload_ext autoreload\n",
    "%autoreload 2\n",
    "%matplotlib inline\n",
    "\n",
    "import os\n",
    "\n",
    "import numpy as np\n",
    "import pandas as pd\n",
    "import yaml\n",
    "from eolearn.core import EOPatch, OverwritePermission\n",
    "from fs_s3fs import S3FS\n",
    "from matplotlib import pyplot as plt\n",
    "from tqdm.auto import tqdm\n",
    "\n",
    "import torch\n",
    "import wandb\n",
    "from hrnet.src.predict import Model"
   ]
  },
  {
   "cell_type": "markdown",
   "metadata": {},
   "source": [
    "## 1.0 Configuration"
   ]
  },
  {
   "cell_type": "code",
   "execution_count": null,
   "metadata": {},
   "outputs": [],
   "source": [
    "# ! wandb login "
   ]
  },
  {
   "cell_type": "code",
   "execution_count": null,
   "metadata": {},
   "outputs": [],
   "source": [
    "aws_access_key_id = ''\n",
    "aws_secret_access_key = ''\n",
    "\n",
    "filesystem = S3FS(\n",
    "    bucket_name='',\n",
    "    aws_access_key_id=aws_access_key_id,\n",
    "    aws_secret_access_key=aws_secret_access_key, region='eu-central-1')\n",
    "\n",
    "\n",
    "MODEL_LOCATION = 'LOCAL'  # If 'LOCAL' it will be loaded from local wandb storage,  if 'WANDB' from online storage\n",
    "MODEL_NAME = ''\n",
    "MODEL_PREFIX = ''\n",
    "MATCHES_S2 = True\n",
    "LOCATION = f'wandb/latest-run/files/'"
   ]
  },
  {
   "cell_type": "code",
   "execution_count": null,
   "metadata": {},
   "outputs": [],
   "source": [
    "EOP_COUNTRIES_PQ = f'{DIONE_DIR}/eop-countries_overlapped.pq'"
   ]
  },
  {
   "cell_type": "code",
   "execution_count": null,
   "metadata": {},
   "outputs": [],
   "source": [
    "if not os.path.exists(EOP_COUNTRIES_PQ):\n",
    "    eops_countries = []\n",
    "    for eopfname in filesystem.listdir(''):\n",
    "        eop = EOPatch.load(os.path.join('',\n",
    "                           eopfname), filesystem=filesystem, lazy_loading=True)\n",
    "        eops_countries.append({'country': 'Lithuania' if str(eop.bbox.crs) == 'EPSG:32634' else 'Cyprus',\n",
    "                               'eopatch': eopfname})\n",
    "        pd.DataFrame(eops_countries).to_parquet(f'{DIONE_DIR}/eop-countries_overlapped.pq')"
   ]
  },
  {
   "cell_type": "code",
   "execution_count": null,
   "metadata": {},
   "outputs": [],
   "source": [
    "checkpoint_filename = 'HRNet.pth'"
   ]
  },
  {
   "cell_type": "code",
   "execution_count": null,
   "metadata": {},
   "outputs": [],
   "source": [
    "if MODEL_LOCATION == 'WANDB':\n",
    "    model_checkpoint = wandb.restore(checkpoint_filename, run_path=LOCATION, replace=True)\n",
    "    model_checkpoint = open(checkpoint_filename, 'rb')\n",
    "    model_config_yaml = yaml.load(wandb.restore('config.yaml', run_path=LOCATION, replace=True))\n",
    "elif MODEL_LOCATION == 'LOCAL':\n",
    "    model_checkpoint = os.path.join(LOCATION, checkpoint_filename)\n",
    "    model_config_yaml = yaml.load(open(os.path.join(LOCATION, 'config.yaml')))\n",
    "\n",
    "    assert os.path.isfile(model_checkpoint)"
   ]
  },
  {
   "cell_type": "code",
   "execution_count": null,
   "metadata": {},
   "outputs": [],
   "source": [
    "config = {k: v['value'] for k, v in model_config_yaml.items() if 'wandb' not in k}"
   ]
  },
  {
   "cell_type": "code",
   "execution_count": null,
   "metadata": {
    "lines_to_next_cell": 2
   },
   "outputs": [],
   "source": [
    "country_norm_df = pd.read_parquet(filesystem.openbin('metadata/s2_norm_per_country.pq'))\n",
    "\n",
    "norm_deimos = {k: v for k, v in np.load(filesystem.openbin('metadata/deimos_min_max_norm.npz')).items()}\n",
    "norm_s2 = {k: v for k, v in np.load(filesystem.openbin('metadata/s2_min_max_norm.npz')).items()}\n",
    "\n",
    "data_df = pd.read_parquet(filesystem.openbin('metadata/npz_info_small.pq'))\n",
    "data_df.reset_index(inplace=True)"
   ]
  },
  {
   "cell_type": "code",
   "execution_count": null,
   "metadata": {},
   "outputs": [],
   "source": [
    "model = Model(config)\n",
    "model.load_checkpoint(checkpoint_file=model_checkpoint)"
   ]
  },
  {
   "cell_type": "markdown",
   "metadata": {},
   "source": [
    "# Predict on EOPatches"
   ]
  },
  {
   "cell_type": "code",
   "execution_count": null,
   "metadata": {},
   "outputs": [],
   "source": [
    "def _filter_cloudy_s2(eop, max_cc):\n",
    "    idxs = []\n",
    "    for i, _ in enumerate(eop.timestamp):\n",
    "        if (eop.mask['CLM'][i, ...].mean() <= max_cc) and (eop.mask['IS_DATA'].mean() == 1):\n",
    "            idxs.append(i)\n",
    "    eop.data['BANDS'] = eop.data['BANDS'][idxs, ...]\n",
    "    eop.data['CLP'] = eop.data['CLP'][idxs, ...]\n",
    "    eop.mask['CLM'] = eop.mask['CLM'][idxs, ...]\n",
    "    eop.mask['IS_DATA'] = eop.mask['IS_DATA'][idxs, ...]\n",
    "    eop.scalar['NORM_FACTORS'] = eop.scalar['NORM_FACTORS'][idxs, ...]\n",
    "\n",
    "    eop.timestamp = list(np.array(eop.timestamp)[idxs])\n",
    "    return eop\n",
    "\n",
    "\n",
    "def _timestamps_within_date(timestamps, start_date, end_date):\n",
    "    return [i for i, ts in enumerate(timestamps) if ts >= start_date and ts < end_date]\n",
    "\n",
    "\n",
    "def predict_sr_images(eopatch_name: str,\n",
    "                      model: Model,\n",
    "                      model_prefix: str,\n",
    "                      scale_factor: int = 4,\n",
    "                      filesystem: S3FS = None,\n",
    "                      normalize: bool = True,\n",
    "                      country_norm_df: pd.DataFrame = None,\n",
    "                      norm_s2_npz: np.lib.npyio.NpzFile = None,\n",
    "                      max_cc: float = 0.05,\n",
    "                      n_views: int = 8,\n",
    "                      padding: str = 'zeros'):\n",
    "    \"\"\" Predict an SR image at the EOPatch level for all timeframes available  \"\"\"\n",
    "    assert padding in ['zeros', 'repeat']\n",
    "\n",
    "    eopatch = EOPatch.load(eopatch_name,\n",
    "                           filesystem=filesystem,\n",
    "                           lazy_loading=True)\n",
    "    noncloudy = _filter_cloudy_s2(eopatch, max_cc=max_cc)\n",
    "#     ts_idxs = _timestamps_within_date(noncloudy.timestamp, start_date, end_date)\n",
    "    features = noncloudy.data['BANDS'] / 10000\n",
    "#     filtered_ts = [eopatch.timestamp[tsi] for tsi in ts_idxs]\n",
    "\n",
    "    if normalize:\n",
    "        country = 'Lithuania' if str(eopatch.bbox.crs) == 'EPSG:32634' else 'Cyprus'  # WARNING EXTREMLY HACKY HACKY\n",
    "        country_stats = country_norm_df[country_norm_df.country == str(country)]\n",
    "\n",
    "        norm_median = country_stats[['median_0', 'median_1', 'median_2', 'median_3']].values\n",
    "        norm_std = country_stats[['std_0', 'std_1', 'std_2', 'std_3']].values\n",
    "\n",
    "        features = (features - norm_median) / norm_std\n",
    "\n",
    "        s2_p1 = norm_s2_npz['p1']\n",
    "        s2_p99 = norm_s2_npz['p99']\n",
    "\n",
    "        features = (features - s2_p1) / (s2_p99 - s2_p1)\n",
    "\n",
    "    n_frames, height, width, nch = features.shape\n",
    "    super_resolved = np.empty((n_frames,\n",
    "                               height*scale_factor,\n",
    "                               width*scale_factor,\n",
    "                               nch), dtype=np.uint16)\n",
    "    actual_n_views = np.array([np.min([n_views, nfr+1])\n",
    "                               for nfr in np.arange(n_frames)]).astype(np.uint8)\n",
    "\n",
    "    for nfr in np.arange(n_frames):\n",
    "        inarr = None\n",
    "        alphas = None\n",
    "        if nfr < n_views:\n",
    "            inarr = np.concatenate([features[:nfr+1],\n",
    "                                    np.zeros((n_views-nfr-1, height, width, nch),\n",
    "                                             dtype=np.float32)],\n",
    "                                   axis=0)\n",
    "            alphas = np.zeros(n_views, dtype=np.uint8)\n",
    "            alphas[:nfr+1] = 1\n",
    "        else:\n",
    "            inarr = features[nfr-n_views+1:nfr+1]\n",
    "            alphas = np.ones(n_views, dtype=np.uint8)\n",
    "\n",
    "        # CxTxHxW\n",
    "        inarr = np.moveaxis(inarr, -1, 1)\n",
    "\n",
    "#         np.testing.assert_array_equal(inarr[nfr if nfr < n_views else -1], features[nfr])\n",
    "\n",
    "        sr = model({'lr': torch.from_numpy(inarr.copy()),\n",
    "                    'alphas': torch.from_numpy(alphas),\n",
    "                    'name': eopatch_name})\n",
    "\n",
    "        # channels back to last\n",
    "        sr = np.moveaxis(sr.squeeze(), 0, 2)\n",
    "\n",
    "        # denormalise\n",
    "        sr = (sr * (s2_p99 - s2_p1) + s2_p1) * norm_std + norm_median\n",
    "\n",
    "        super_resolved[nfr] = (np.clip(sr, 0, 3)*10000).astype(np.uint16)\n",
    "\n",
    "    eop_sr = EOPatch(bbox=eopatch.bbox, timestamp=noncloudy.timestamp)\n",
    "    eop_sr.data[f'SR-{model_prefix.upper()}'] = super_resolved\n",
    "    eop_sr.data['S2'] = noncloudy.data['BANDS'].astype(np.uint16)\n",
    "    eop_sr.scalar['N_VIEWS'] = actual_n_views[..., np.newaxis]\n",
    "\n",
    "    return eop_sr"
   ]
  },
  {
   "cell_type": "code",
   "execution_count": null,
   "metadata": {},
   "outputs": [],
   "source": [
    "eops_folder = ''\n",
    "deimos_eops_folder = ''"
   ]
  },
  {
   "cell_type": "code",
   "execution_count": null,
   "metadata": {},
   "outputs": [],
   "source": [
    "eop_countries = pd.read_parquet(EOP_COUNTRIES_PQ)"
   ]
  },
  {
   "cell_type": "code",
   "execution_count": null,
   "metadata": {},
   "outputs": [],
   "source": [
    "eopatch_names = eop_countries[eop_countries.country == 'Lithuania'].eopatch.unique()"
   ]
  },
  {
   "cell_type": "code",
   "execution_count": null,
   "metadata": {},
   "outputs": [],
   "source": [
    "eop_sr = predict_sr_images(f'{eops_folder}/{eopatch_names[0]}',\n",
    "                           model,\n",
    "                           MODEL_PREFIX,\n",
    "                           scale_factor=4,\n",
    "                           country_norm_df=country_norm_df,\n",
    "                           filesystem=filesystem,\n",
    "                           normalize=True,\n",
    "                           norm_s2_npz=norm_s2,\n",
    "                           max_cc=0.05,\n",
    "                           n_views=config['training']['n_views'])"
   ]
  },
  {
   "cell_type": "code",
   "execution_count": null,
   "metadata": {},
   "outputs": [],
   "source": [
    "eop_sr"
   ]
  },
  {
   "cell_type": "code",
   "execution_count": null,
   "metadata": {
    "lines_to_next_cell": 2
   },
   "outputs": [],
   "source": [
    "fig, axs = plt.subplots(ncols=2, nrows=17, figsize=(15, 17*7.5))\n",
    "\n",
    "for ni, (s2, sr) in enumerate(zip(eop_sr.data['S2'], eop_sr.data[f'SR-{MODEL_PREFIX.upper()}'])):\n",
    "    axs[ni][0].imshow(2.5*s2[..., [2, 1, 0]]/10000)\n",
    "    axs[ni][1].imshow(2.5*sr[..., [2, 1, 0]]/10000)\n",
    "    axs[ni][0].set_title(f'S2 - {eop_sr.timestamp[ni]}')\n",
    "    axs[ni][1].set_title(f'SR - {eop_sr.scalar[\"N_VIEWS\"][ni][0]} actual views')\n",
    "\n",
    "fig.tight_layout()"
   ]
  },
  {
   "cell_type": "code",
   "execution_count": null,
   "metadata": {},
   "outputs": [],
   "source": [
    "eops_sr_folder = f'eopatches-{MODEL_PREFIX}/'"
   ]
  },
  {
   "cell_type": "code",
   "execution_count": null,
   "metadata": {},
   "outputs": [],
   "source": [
    "eops_sr_folder"
   ]
  },
  {
   "cell_type": "code",
   "execution_count": null,
   "metadata": {},
   "outputs": [],
   "source": [
    "for eopatch_name in tqdm(eopatch_names):\n",
    "    try:\n",
    "        eop_sr = predict_sr_images(f'{eops_folder}/{eopatch_name}',\n",
    "                                   model,\n",
    "                                   MODEL_PREFIX,\n",
    "                                   scale_factor=4,\n",
    "                                   country_norm_df=country_norm_df,\n",
    "                                   filesystem=filesystem,\n",
    "                                   normalize=True,\n",
    "                                   norm_s2_npz=norm_s2,\n",
    "                                   max_cc=0.05,\n",
    "                                   n_views=config['training']['n_views'])\n",
    "        eop_sr.save(f'{eops_sr_folder}/{eopatch_name}',\n",
    "                    filesystem=filesystem,\n",
    "                    overwrite_permission=OverwritePermission.OVERWRITE_FEATURES)\n",
    "        del eop_sr\n",
    "    except RuntimeError:\n",
    "        print(f'Error in {eopatch_name}')"
   ]
  },
  {
   "cell_type": "code",
   "execution_count": null,
   "metadata": {},
   "outputs": [],
   "source": []
  }
 ],
 "metadata": {
  "kernelspec": {
   "display_name": "Environment (conda_pytorch_p36)",
   "language": "python",
   "name": "conda_pytorch_p36"
  },
  "language_info": {
   "codemirror_mode": {
    "name": "ipython",
    "version": 3
   },
   "file_extension": ".py",
   "mimetype": "text/x-python",
   "name": "python",
   "nbconvert_exporter": "python",
   "pygments_lexer": "ipython3",
   "version": "3.6.7"
  }
 },
 "nbformat": 4,
 "nbformat_minor": 2
}