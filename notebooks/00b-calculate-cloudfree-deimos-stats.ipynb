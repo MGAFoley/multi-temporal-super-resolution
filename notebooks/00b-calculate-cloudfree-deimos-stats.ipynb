{
 "cells": [
  {
   "cell_type": "code",
   "execution_count": null,
   "metadata": {},
   "outputs": [],
   "source": [
    "import os\n",
    "from datetime import datetime"
   ]
  },
  {
   "cell_type": "code",
   "execution_count": null,
   "metadata": {
    "lines_to_next_cell": 2
   },
   "outputs": [],
   "source": [
    "import numpy as np\n",
    "import pandas as pd\n",
    "from eolearn.core import FeatureType\n",
    "from eolearn.io import ImportFromTiff\n",
    "from fs_s3fs import S3FS\n",
    "from sentinelhub import SHConfig\n",
    "from tqdm.auto import tqdm"
   ]
  },
  {
   "cell_type": "code",
   "execution_count": null,
   "metadata": {},
   "outputs": [],
   "source": [
    "AWS_ACCESS_KEY_ID = ''\n",
    "AWS_SECRET_ACCESS_KEY = ''\n",
    "BUCKET_NAME = ''\n",
    "LOC_ON_BUCKET = ''"
   ]
  },
  {
   "cell_type": "code",
   "execution_count": null,
   "metadata": {},
   "outputs": [],
   "source": [
    "filesystem = S3FS(bucket_name=BUCKET_NAME,\n",
    "                  aws_access_key_id=AWS_ACCESS_KEY_ID,\n",
    "                  aws_secret_access_key=AWS_SECRET_ACCESS_KEY)"
   ]
  },
  {
   "cell_type": "code",
   "execution_count": null,
   "metadata": {},
   "outputs": [],
   "source": [
    "config = SHConfig()\n",
    "config.aws_access_key_id = AWS_ACCESS_KEY_ID\n",
    "config.aws_secret_access_key = AWS_SECRET_ACCESS_KEY"
   ]
  },
  {
   "cell_type": "code",
   "execution_count": null,
   "metadata": {},
   "outputs": [],
   "source": [
    "BAND_GAIN = {3: 0.006800104616, 2: 0.011123248049, 1: 0.013184818227, 0:  0.014307912429}\n",
    "BAND_BIAS = {3: -0.00680010461, 2: -0.01112324804, 1: -0.01318481822, 0: -0.01430791242}\n",
    "PAN_GAIN = 0.011354020831\n",
    "PAN_BIAS = -0.01135402083"
   ]
  },
  {
   "cell_type": "code",
   "execution_count": null,
   "metadata": {},
   "outputs": [],
   "source": [
    "MS4_THRESHOLD = 100\n",
    "PAN_THRESHOLD = 100"
   ]
  },
  {
   "cell_type": "code",
   "execution_count": null,
   "metadata": {},
   "outputs": [],
   "source": [
    "metadata_ms4 = pd.read_parquet(filesystem.openbin('metadata/deimos_ms4_metadata.pq'))\n",
    "metadata_pan = pd.read_parquet(filesystem.openbin('metadata/deimos_pan_metadata.pq'))"
   ]
  },
  {
   "cell_type": "code",
   "execution_count": null,
   "metadata": {},
   "outputs": [],
   "source": [
    "metadata_ms4.columns"
   ]
  },
  {
   "cell_type": "code",
   "execution_count": null,
   "metadata": {},
   "outputs": [],
   "source": [
    "CLM_MASK_BAND = 0  # Blue"
   ]
  },
  {
   "cell_type": "code",
   "execution_count": null,
   "metadata": {},
   "outputs": [],
   "source": [
    "stats_ms4 = []\n",
    "stats_pan = []\n",
    "\n",
    "\n",
    "def calculate_stats(data, sensing_time):\n",
    "    median = np.median(data, axis=0)\n",
    "    mean = np.mean(data, axis=0)\n",
    "    std = np.std(data, axis=0)\n",
    "\n",
    "    stats = {'sensing_time': sensing_time}\n",
    "    for i, (bmedian, bstd, bmean) in enumerate(zip(median, std, mean)):\n",
    "        band_stats = {f'STX_CLM_MEDIAN_{i+1}': bmedian,\n",
    "                      f'STX_CLM_STDV_{i+1}': bstd,\n",
    "                      f'STX_CLM_MEAN_{i+1}': bmean}\n",
    "\n",
    "        stats = {**stats, **band_stats}\n",
    "\n",
    "    return stats\n",
    "\n",
    "\n",
    "def calculate_stats_radiance(data, sensing_time):\n",
    "    _, chnls = data.shape\n",
    "    if chnls == 1:\n",
    "        data = data*PAN_GAIN + PAN_BIAS\n",
    "    elif chnls == 4:\n",
    "        data = np.add(np.multiply(data, list(BAND_GAIN.values())), list(BAND_BIAS.values()))\n",
    "    else:\n",
    "        raise ValueError(\"Wrong number of channels.\")\n",
    "\n",
    "    median = np.median(data, axis=0)\n",
    "    mean = np.mean(data, axis=0)\n",
    "    std = np.std(data, axis=0)\n",
    "\n",
    "    stats = {'sensing_time': sensing_time}\n",
    "    for i, (bmedian, bstd, bmean) in enumerate(zip(median, std, mean)):\n",
    "        band_stats = {f'STX_CLM_RADIANCE_MEDIAN_{i+1}': bmedian,\n",
    "                      f'STX_CLM_RADIANCE_STDV_{i+1}': bstd,\n",
    "                      f'STX_CLM_RADIANCE_MEAN_{i+1}': bmean}\n",
    "        stats = {**stats, **band_stats}\n",
    "\n",
    "    return stats\n",
    "\n",
    "\n",
    "def calculate_cloudfree_stats(tile_folder, config, clm_mask_band, band_gain, band_bias, ms4_thr, pan_gain, pan_bias, pan_thr, calculate_stats_func):\n",
    "    try:\n",
    "        eop_ms4 = ImportFromTiff((FeatureType.DATA, 'MS4'), folder=tile_folder, config=config).execute(\n",
    "            filename=['B04.tiff', 'B03.tiff', 'B02.tiff', 'B01.tiff'])\n",
    "        eop = ImportFromTiff((FeatureType.DATA, 'PAN'), folder=tile_folder,\n",
    "                             config=config).execute(eop_ms4, filename='PAN.tiff')\n",
    "        eop.timestamp = [datetime.strptime(sensing_time, '%Y-%m-%d_%H-%M-%S')]\n",
    "        data = eop.data['MS4']\n",
    "\n",
    "        mask = (data[..., clm_mask_band]*band_gain[clm_mask_band] + band_bias[clm_mask_band]) > MS4_THRESHOLD\n",
    "        mask = mask.astype(np.float32)\n",
    "        mask[data[..., 0] == 0] = np.nan\n",
    "        coverage = mask[mask == 1].sum() / np.count_nonzero(~np.isnan(mask))\n",
    "\n",
    "        data_masked = data[mask == 0, :]\n",
    "        # TODO: Why is this here... Serves me right for not commenting.\n",
    "        if coverage > 0.1:\n",
    "            stats_ms4 = calculate_stats_func(data_masked, eop.timestamp[0])\n",
    "        else:\n",
    "            stats_ms4 = calculate_stats_func(data[data[..., 0] > 0, :], eop.timestamp[0])\n",
    "\n",
    "        data = eop.data['PAN'].squeeze()\n",
    "        mask = ((eop.data['PAN']*PAN_GAIN + PAN_BIAS) > PAN_THRESHOLD).squeeze()\n",
    "        data_masked = data[mask]\n",
    "        mask = mask.astype(np.float32)\n",
    "        mask[data == 0] = np.nan\n",
    "        data_masked = data[mask == 0]\n",
    "\n",
    "        if coverage > 0.1:\n",
    "            stats_pan = calculate_stats_func(np.expand_dims(data_masked, -1), eop.timestamp[0])\n",
    "        else:\n",
    "            stats_pan = calculate_stats_func(np.expand_dims(data[data > 0], -1),  eop.timestamp[0])\n",
    "        return stats_ms4, stats_pan\n",
    "\n",
    "    except Exception as e:\n",
    "        print(f'Failed for sensing time {sensing_time} with error: {e}')\n",
    "        return None, None\n",
    "\n",
    "\n",
    "results = []\n",
    "for sensing_time in tqdm(filesystem.listdir(LOC_ON_BUCKET)):\n",
    "    results.append(calculate_cloudfree_stats(tile_folder=os.path.join('s3://', BUCKET_NAME, LOC_ON_BUCKET, sensing_time),\n",
    "                                             config=config,\n",
    "                                             clm_mask_band=CLM_MASK_BAND,\n",
    "                                             band_gain=BAND_GAIN,\n",
    "                                             band_bias=BAND_BIAS,\n",
    "                                             ms4_thr=MS4_THRESHOLD,\n",
    "                                             pan_gain=PAN_GAIN,\n",
    "                                             pan_bias=PAN_BIAS,\n",
    "                                             pan_thr=PAN_THRESHOLD,\n",
    "                                             calculate_stats_func=calculate_stats\n",
    "                                             ))"
   ]
  },
  {
   "cell_type": "code",
   "execution_count": null,
   "metadata": {},
   "outputs": [],
   "source": [
    "stats_ms4, stats_pan = list(zip(*results))"
   ]
  },
  {
   "cell_type": "code",
   "execution_count": null,
   "metadata": {},
   "outputs": [],
   "source": [
    "stats_ms4"
   ]
  },
  {
   "cell_type": "code",
   "execution_count": null,
   "metadata": {},
   "outputs": [],
   "source": [
    "ms4 = pd.DataFrame([x for x in stats_ms4 if x is not None])\n",
    "ms4.sensing_time = ms4.sensing_time.apply(lambda x: str(x).replace(' ', 'T'))\n",
    "metadata_ms4_stats = metadata_ms4.set_index('START_TIME').join(ms4.set_index('sensing_time')).reset_index()\n",
    "with filesystem.openbin('metadata/deimos_ms4_metadata.pq', 'wb') as f:\n",
    "    metadata_ms4_stats.to_parquet(f)"
   ]
  },
  {
   "cell_type": "code",
   "execution_count": null,
   "metadata": {},
   "outputs": [],
   "source": [
    "pan = pd.DataFrame([x for x in stats_pan if x is not None])\n",
    "pan.sensing_time = pan.sensing_time.apply(lambda x: str(x).replace(' ', 'T'))\n",
    "pan_stats = metadata_pan.set_index('START_TIME').join(pan.set_index('sensing_time')).reset_index()\n",
    "with filesystem.openbin('metadata/deimos_pan_metadata.pq', 'wb') as f:\n",
    "    pan_stats.to_parquet(f)"
   ]
  }
 ],
 "metadata": {
  "kernelspec": {
   "display_name": "Environment (conda_tensorflow2_p36)",
   "language": "python",
   "name": "conda_tensorflow2_p36"
  }
 },
 "nbformat": 4,
 "nbformat_minor": 2
}