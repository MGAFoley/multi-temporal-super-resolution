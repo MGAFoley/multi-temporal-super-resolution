{
 "cells": [
  {
   "cell_type": "markdown",
   "metadata": {},
   "source": [
    "Warning! This notebook requires atleast 90GB of RAM"
   ]
  },
  {
   "cell_type": "code",
   "execution_count": null,
   "metadata": {},
   "outputs": [],
   "source": [
    "import os"
   ]
  },
  {
   "cell_type": "code",
   "execution_count": null,
   "metadata": {},
   "outputs": [],
   "source": [
    "import numpy as np\n",
    "import pandas as pd\n",
    "from dateutil.parser import parse\n",
    "from eolearn.core import EOPatch\n",
    "from fs_s3fs import S3FS\n",
    "from sentinelhub import SHConfig"
   ]
  },
  {
   "cell_type": "code",
   "execution_count": null,
   "metadata": {
    "lines_to_next_cell": 2
   },
   "outputs": [],
   "source": [
    "from sg_utils.processing import multiprocess"
   ]
  },
  {
   "cell_type": "code",
   "execution_count": null,
   "metadata": {},
   "outputs": [],
   "source": [
    "config = SHConfig()\n",
    "config.aws_access_key_id = ''\n",
    "config.aws_secret_access_key = ''"
   ]
  },
  {
   "cell_type": "code",
   "execution_count": null,
   "metadata": {},
   "outputs": [],
   "source": [
    "filesystem = S3FS(bucket_name='',\n",
    "                  aws_access_key_id=config.aws_access_key_id,\n",
    "                  aws_secret_access_key=config.aws_secret_access_key)"
   ]
  },
  {
   "cell_type": "code",
   "execution_count": null,
   "metadata": {
    "lines_to_next_cell": 2
   },
   "outputs": [],
   "source": [
    "DIR_SAMPLED_S2 = ''\n",
    "DIR_SAMPLED_DEIMOS_1M = ''"
   ]
  },
  {
   "cell_type": "code",
   "execution_count": null,
   "metadata": {},
   "outputs": [],
   "source": [
    "metadata_ms4 = pd.read_parquet(filesystem.openbin('metadata/deimos_ms4_metadata.pq'))\n",
    "metadata_ms4['Country'] = metadata_ms4.Projection_OGCWKT.apply(lambda x: 'Lithuania' if '34N' in x else 'Cyprus') # ! Warning, doesn't  ! \n",
    "timestamp_country_map = {ts: country for ts, country in metadata_ms4[['START_TIME', 'Country']].values}"
   ]
  },
  {
   "cell_type": "code",
   "execution_count": null,
   "metadata": {},
   "outputs": [],
   "source": [
    "MAX_CC = .05\n",
    "N_DAYS = 60\n",
    "\n",
    "S2_FACTOR = 10000.0"
   ]
  },
  {
   "cell_type": "code",
   "execution_count": null,
   "metadata": {},
   "outputs": [],
   "source": [
    "def normalize_deimos(eop, pan=False):\n",
    "    bname = 'PANSHARPENED-DEIMOS' if pan else 'BANDS-DEIMOS'\n",
    "\n",
    "    bands = eop.data[bname]\n",
    "    for i, ts in enumerate(eop.timestamp):\n",
    "        for chnl in range(0, 4):\n",
    "\n",
    "            bands = bands.astype(np.float32)\n",
    "            median = float(eop.meta_info['metadata'][ts]['MS4']['CLM_RADIANCE_BAND_STATS_PANSHARPENED']\n",
    "                           [f'STX_CLM_RADIANCE_MEDIAN_PANSHARPENED_{chnl+1}'])\n",
    "            std = float(eop.meta_info['metadata'][ts]['MS4']['CLM_RADIANCE_BAND_STATS_PANSHARPENED']\n",
    "                        [f'STX_CLM_RADIANCE_STDV_PANSHARPENED_{chnl+1}'])\n",
    "\n",
    "            gain = float(eop.meta_info['metadata'][ts]['MS4']['PHYSICAL_INFO'][f'PHYSICAL_GAIN_{chnl+1}'])\n",
    "            bias = float(eop.meta_info['metadata'][ts]['MS4']['PHYSICAL_INFO'][f'PHYSICAL_BIAS_{chnl+1}'])\n",
    "\n",
    "            bands[i, ..., chnl] = ((bands[i, ..., chnl]*gain + bias) - median) / std\n",
    "\n",
    "    eop.data[bname] = bands\n",
    "    return eop\n",
    "\n",
    "\n",
    "def _valid_idxs_deimos(eop, max_cc, clm_band=0, threshold=95):\n",
    "\n",
    "    idxs = []\n",
    "    for i, ts in enumerate(eop.timestamp):\n",
    "\n",
    "        float(eop.meta_info['metadata'][ts]['MS4']['PHYSICAL_INFO'][f'PHYSICAL_GAIN_{clm_band+1}'])\n",
    "        float(eop.meta_info['metadata'][ts]['MS4']['PHYSICAL_INFO'][f'PHYSICAL_BIAS_{clm_band+1}'])\n",
    "\n",
    "        # cloud_coverage = ((eop.data['BANDS-DEIMOS'][i, ..., clm_band]*gain + bias) > threshold).mean()\n",
    "        cloud_coverage = eop.mask['CLM'][i].mean()\n",
    "        if cloud_coverage <= max_cc and (eop.mask['IS_DATA'].mean() == 1):\n",
    "            idxs.append(i)\n",
    "    return idxs\n",
    "\n",
    "\n",
    "def _filter_cloudy_s2(eop, max_cc):\n",
    "    idxs = []\n",
    "    for i, _ in enumerate(eop.timestamp):\n",
    "        if (eop.mask['CLM'][i, ...].mean() <= max_cc) and (eop.mask['IS_DATA'].mean() == 1):\n",
    "            idxs.append(i)\n",
    "    eop.data['BANDS'] = eop.data['BANDS'][idxs, ...]\n",
    "    eop.data['CLP'] = eop.data['CLP'][idxs, ...]\n",
    "    eop.mask['CLM'] = eop.mask['CLM'][idxs, ...]\n",
    "    eop.mask['IS_DATA'] = eop.mask['IS_DATA'][idxs, ...]\n",
    "    eop.scalar['NORM_FACTORS'] = eop.scalar['NORM_FACTORS'][idxs, ...]\n",
    "\n",
    "    eop.timestamp = list(np.array(eop.timestamp)[idxs])\n",
    "    return eop\n",
    "\n",
    "\n",
    "def _get_closest_timestamp_idx(eop, ref_timestamp):\n",
    "    closest_idx = 0\n",
    "    for i, ts in enumerate(eop.timestamp):\n",
    "        if abs((ts - ref_timestamp).days) < abs((eop.timestamp[closest_idx] - ref_timestamp).days):\n",
    "            closest_idx = i\n",
    "    return closest_idx\n",
    "\n",
    "\n",
    "def _idxs_within_n_days(eop, ref_ts, n_days=60):\n",
    "    idxs = []\n",
    "    for i, ts in enumerate(eop.timestamp):\n",
    "        if 0 < (ref_ts - ts).days < 60:\n",
    "            idxs.append(i)\n",
    "    return idxs"
   ]
  },
  {
   "cell_type": "code",
   "execution_count": null,
   "metadata": {},
   "outputs": [],
   "source": [
    "DIR_SAMPLED_S2 = ''\n",
    "DIR_SAMPLED_DEIMOS = ''"
   ]
  },
  {
   "cell_type": "code",
   "execution_count": null,
   "metadata": {},
   "outputs": [],
   "source": [
    "def construct_features_labels(eop_name):\n",
    "    features, labels, s2_timestamps = [], [], []\n",
    "    try:\n",
    "\n",
    "        s2 = EOPatch.load(os.path.join(DIR_SAMPLED_S2, eop_name), filesystem=filesystem, lazy_loading=True)\n",
    "        deimos = EOPatch.load(os.path.join(DIR_SAMPLED_DEIMOS, eop_name), filesystem=filesystem, lazy_loading=True)\n",
    "        s2 = _filter_cloudy_s2(s2, MAX_CC)\n",
    "        non_cloudy_idxs = _valid_idxs_deimos(deimos, MAX_CC)\n",
    "        timestamps = np.array(deimos.timestamp)[non_cloudy_idxs]\n",
    "\n",
    "        deimos_data = normalize_deimos(deimos, pan=False).data['BANDS-DEIMOS'][non_cloudy_idxs, ...]\n",
    "        for ts, deim in zip(timestamps, deimos_data):\n",
    "\n",
    "            s2_idxs = _idxs_within_n_days(s2, ts, N_DAYS)\n",
    "\n",
    "            s2_timestamps.append(np.array(s2.timestamp)[s2_idxs])\n",
    "            features.append(s2.data['BANDS'][s2_idxs, ...] / S2_FACTOR)\n",
    "            labels.append(deim)\n",
    "\n",
    "        return {'features': features, 'labels': labels,\n",
    "                'patchlet_name': [eop_name]*len(features),\n",
    "                'timestamps_deimos': timestamps,\n",
    "                'timestamps_s2': s2_timestamps,\n",
    "                'countries': [timestamp_country_map[ts] for ts in timestamps]\n",
    "                }\n",
    "    except Exception as e:\n",
    "        print(f\"Failed for {eop_name} with error: {e}\")\n",
    "        return {'features': [], 'labels': [],\n",
    "                'patchlet_name': [],\n",
    "                'timestamps_deimos': [],\n",
    "                'timestamps_s2': [],\n",
    "                'countries': []\n",
    "                }"
   ]
  },
  {
   "cell_type": "code",
   "execution_count": null,
   "metadata": {
    "lines_to_next_cell": 2
   },
   "outputs": [],
   "source": [
    "#sampled_list = filesystem.listdir(DIR_SAMPLED_S2)"
   ]
  },
  {
   "cell_type": "code",
   "execution_count": null,
   "metadata": {},
   "outputs": [],
   "source": [
    "results = multiprocess(construct_features_labels, sampled_list, max_workers=47)"
   ]
  },
  {
   "cell_type": "code",
   "execution_count": null,
   "metadata": {},
   "outputs": [],
   "source": [
    "filesystem.makedirs('')"
   ]
  },
  {
   "cell_type": "code",
   "execution_count": null,
   "metadata": {},
   "outputs": [],
   "source": [
    "def save_npz(result):\n",
    "    info = []\n",
    "    for i, (feats, labels, patch_name, ts_deim, ts_s2, ts_country) in enumerate(zip(result['features'], result['labels'],\n",
    "                                                                                    result['patchlet_name'],\n",
    "                                                                                    result['timestamps_deimos'],\n",
    "                                                                                    result['timestamps_s2'],\n",
    "                                                                                    result['countries'])):\n",
    "\n",
    "        if len(feats) == 0:\n",
    "            continue\n",
    "\n",
    "        filename = f'data_{patch_name}_{i}.npz'\n",
    "        info.append(dict(patchlet=patch_name, eopatch=patch_name.split('_')[0],\n",
    "                         countries=ts_country, timestamp_deimos=ts_deim,\n",
    "                         timestamps_s2=ts_s2,\n",
    "                         singleton_npz_filename=filename))\n",
    "        with filesystem.openbin(f'/{filename}', 'wb') as f:\n",
    "            np.savez(f, features=feats,\n",
    "                     labels=labels,\n",
    "                     patchlet=patch_name,\n",
    "                     timetamps_deimos=ts_deim,\n",
    "                     timestamps_s2=ts_s2,\n",
    "                     countries=ts_country)\n",
    "    return pd.DataFrame(info)"
   ]
  },
  {
   "cell_type": "code",
   "execution_count": null,
   "metadata": {},
   "outputs": [],
   "source": [
    "dfs = multiprocess(save_npz, results, max_workers=47)"
   ]
  },
  {
   "cell_type": "code",
   "execution_count": null,
   "metadata": {},
   "outputs": [],
   "source": [
    "npz_files = filesystem.listdir('')"
   ]
  },
  {
   "cell_type": "code",
   "execution_count": null,
   "metadata": {},
   "outputs": [],
   "source": [
    "def create_info(filename):\n",
    "    npz = np.load(filesystem.openbin(f'/{filename}'), allow_pickle=True)\n",
    "    patchlet_name = npz['patchlet']\n",
    "    eopatch_name = str(patchlet_name).split('_')[0]\n",
    "    timestamp_deimos = npz['timetamps_deimos']\n",
    "    timestamps_s2 = npz['timestamps_s2']\n",
    "    countries = npz['countries']\n",
    "    return dict(patchlet=patchlet_name,\n",
    "                eopatch=eopatch_name,\n",
    "                countries=countries,\n",
    "                timestamp_deimos=timestamp_deimos,\n",
    "                timestamps_s2=timestamps_s2,\n",
    "                singleton_npz_filename=filename)"
   ]
  },
  {
   "cell_type": "code",
   "execution_count": null,
   "metadata": {},
   "outputs": [],
   "source": [
    "dicts = multiprocess(create_info, npz_files, max_workers=16)"
   ]
  },
  {
   "cell_type": "code",
   "execution_count": null,
   "metadata": {},
   "outputs": [],
   "source": [
    "df_concated = pd.concat(dfs)"
   ]
  },
  {
   "cell_type": "code",
   "execution_count": null,
   "metadata": {},
   "outputs": [],
   "source": [
    "df = df_concated"
   ]
  },
  {
   "cell_type": "code",
   "execution_count": null,
   "metadata": {},
   "outputs": [],
   "source": [
    "df['timestamps_s2_str'] = df.timestamps_s2.apply(lambda x: '|'.join([str(s) for s in x]))"
   ]
  },
  {
   "cell_type": "code",
   "execution_count": null,
   "metadata": {},
   "outputs": [],
   "source": [
    "df.timestamps_s2_str = df.timestamps_s2_str.astype(str)"
   ]
  },
  {
   "cell_type": "code",
   "execution_count": null,
   "metadata": {
    "lines_to_next_cell": 2
   },
   "outputs": [],
   "source": [
    "df['num_tstamps'] = df.timestamps_s2.apply(lambda x: len(x))"
   ]
  },
  {
   "cell_type": "code",
   "execution_count": null,
   "metadata": {
    "lines_to_next_cell": 2
   },
   "outputs": [],
   "source": [
    "df[['patchlet', 'eopatch', 'countries', 'timestamp_deimos',\n",
    "    'singleton_npz_filename', 'timestamps_s2_str']].dtypes"
   ]
  },
  {
   "cell_type": "code",
   "execution_count": null,
   "metadata": {},
   "outputs": [],
   "source": [
    "df.timestamp_deimos = df.timestamp_deimos.apply(lambda x: parse(str(x)))"
   ]
  },
  {
   "cell_type": "code",
   "execution_count": null,
   "metadata": {},
   "outputs": [],
   "source": [
    "df.countries = df.countries.astype(str)\n",
    "df.patchlet = df.patchlet.astype(str)"
   ]
  },
  {
   "cell_type": "code",
   "execution_count": null,
   "metadata": {},
   "outputs": [],
   "source": [
    "df"
   ]
  },
  {
   "cell_type": "code",
   "execution_count": null,
   "metadata": {},
   "outputs": [],
   "source": [
    "with filesystem.openbin('metadata/npz_info_small.pq', 'wb') as f:\n",
    "    df[['patchlet', 'eopatch', 'countries', 'timestamp_deimos',\n",
    "       'singleton_npz_filename', 'timestamps_s2_str', 'num_tstamps']].to_parquet(f)"
   ]
  }
 ],
 "metadata": {
  "kernelspec": {
   "display_name": "Python 3.6.9 64-bit ('venv': virtualenv)",
   "language": "python",
   "name": "python369jvsc74a57bd008539c228c0b1d46fd3ab380299090bd67be578e8cdd5c516ba9f15efc81c90d"
  }
 },
 "nbformat": 4,
 "nbformat_minor": 2
}