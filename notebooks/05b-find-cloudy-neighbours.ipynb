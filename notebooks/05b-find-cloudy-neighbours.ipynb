{
 "cells": [
  {
   "cell_type": "code",
   "execution_count": null,
   "metadata": {},
   "outputs": [],
   "source": [
    "import os"
   ]
  },
  {
   "cell_type": "code",
   "execution_count": null,
   "metadata": {
    "lines_to_next_cell": 2
   },
   "outputs": [],
   "source": [
    "import geopandas as gpd\n",
    "import numpy as np\n",
    "import pandas as pd\n",
    "from eolearn.core import EOPatch\n",
    "from fs_s3fs import S3FS\n",
    "from sentinelhub import CRS, SHConfig\n",
    "from tqdm.auto import tqdm"
   ]
  },
  {
   "cell_type": "code",
   "execution_count": null,
   "metadata": {},
   "outputs": [],
   "source": [
    "config = SHConfig()\n",
    "config.aws_access_key_id = ''\n",
    "config.aws_secret_access_key = ''"
   ]
  },
  {
   "cell_type": "code",
   "execution_count": null,
   "metadata": {},
   "outputs": [],
   "source": [
    "filesystem = S3FS(bucket_name='',\n",
    "                  aws_access_key_id=config.aws_access_key_id,\n",
    "                  aws_secret_access_key=config.aws_secret_access_key)"
   ]
  },
  {
   "cell_type": "code",
   "execution_count": null,
   "metadata": {},
   "outputs": [],
   "source": [
    "data_df = pd.read_parquet(filesystem.openbin('metadata/npz_info_small.pq'))"
   ]
  },
  {
   "cell_type": "code",
   "execution_count": null,
   "metadata": {},
   "outputs": [],
   "source": [
    "data_df"
   ]
  },
  {
   "cell_type": "code",
   "execution_count": null,
   "metadata": {},
   "outputs": [],
   "source": [
    "DIR_DEIMOS = ''"
   ]
  },
  {
   "cell_type": "code",
   "execution_count": null,
   "metadata": {},
   "outputs": [],
   "source": [
    "MAX_CC = 0.05"
   ]
  },
  {
   "cell_type": "code",
   "execution_count": null,
   "metadata": {},
   "outputs": [],
   "source": [
    "def cloudy_idxs_deimos(eop, max_cc, threshold=100):\n",
    "\n",
    "    idxs = []\n",
    "    for i, ts in enumerate(eop.timestamp):\n",
    "\n",
    "        float(eop.meta_info['metadata'][ts]['MS4']['PHYSICAL_INFO'][f'PHYSICAL_GAIN_4'])\n",
    "        float(eop.meta_info['metadata'][ts]['MS4']['PHYSICAL_INFO'][f'PHYSICAL_BIAS_4'])\n",
    "        is_data_mask = eop.mask['IS_DATA'][i].squeeze()\n",
    "        cloud_coverage = eop.mask['CLM'][i][is_data_mask].mean()\n",
    "        if cloud_coverage > max_cc:\n",
    "            idxs.append(i)\n",
    "\n",
    "    return idxs"
   ]
  },
  {
   "cell_type": "code",
   "execution_count": null,
   "metadata": {},
   "outputs": [],
   "source": [
    "cloud_info = []\n",
    "for eop_name in tqdm(filesystem.listdir(DIR_DEIMOS)):\n",
    "    eop = EOPatch.load(os.path.join(DIR_DEIMOS, eop_name), filesystem=filesystem, lazy_loading=True)\n",
    "    cloudy = cloudy_idxs_deimos(eop, MAX_CC)\n",
    "    info = dict(eop_name=eop_name,\n",
    "                bbox=eop.bbox,\n",
    "                geometry=eop.bbox.geometry,\n",
    "                crs=eop.bbox.crs,\n",
    "                cloudy_timestamps=np.array(eop.timestamp)[cloudy])\n",
    "    cloud_info.append(info)"
   ]
  },
  {
   "cell_type": "code",
   "execution_count": null,
   "metadata": {},
   "outputs": [],
   "source": [
    "df = pd.DataFrame(cloud_info)\n",
    "df.to_pickle('cloud_info.pkl')"
   ]
  },
  {
   "cell_type": "code",
   "execution_count": null,
   "metadata": {},
   "outputs": [],
   "source": [
    "gdf_cyprus = gpd.GeoDataFrame(df[df.crs == CRS('32636')], crs='EPSG:32636')\n",
    "gdf_lithuania = gpd.GeoDataFrame(df[df.crs == CRS('32634')], crs='EPSG:32634')"
   ]
  },
  {
   "cell_type": "code",
   "execution_count": null,
   "metadata": {},
   "outputs": [],
   "source": [
    "gdf_cyprus"
   ]
  },
  {
   "cell_type": "code",
   "execution_count": null,
   "metadata": {},
   "outputs": [],
   "source": [
    "def get_neighbouring_eops(gdf):\n",
    "    for index, row in gdf.iterrows():\n",
    "        # get 'not disjoint' countries\n",
    "        neighbors = gdf[~gdf.geometry.disjoint(row.geometry)].eop_name.tolist()\n",
    "\n",
    "        # remove own name of the country from the list\n",
    "        neighbors = [name for name in neighbors if row.eop_name != name]\n",
    "\n",
    "        # add names of neighbors as NEIGHBORS value\n",
    "        gdf.at[index, \"neighbouring_eops\"] = \", \".join(neighbors)\n",
    "    return gdf"
   ]
  },
  {
   "cell_type": "code",
   "execution_count": null,
   "metadata": {},
   "outputs": [],
   "source": [
    "gdf_lithuania = get_neighbouring_eops(gdf_lithuania)\n",
    "gdf_cyprus = get_neighbouring_eops(gdf_cyprus)"
   ]
  },
  {
   "cell_type": "code",
   "execution_count": null,
   "metadata": {},
   "outputs": [],
   "source": [
    "gdf_cyprus.head(300)"
   ]
  },
  {
   "cell_type": "code",
   "execution_count": null,
   "metadata": {},
   "outputs": [],
   "source": [
    "def get_cloudy_eop_timestamps(gdf):\n",
    "    cloudy_eop_timestamps = []\n",
    "    for _, row in gdf.iterrows():\n",
    "        for cloudy_timestamp in row.cloudy_timestamps:\n",
    "            for neighbour in row.neighbouring_eops.split(','):\n",
    "                cloudy_eop_timestamps.append((cloudy_timestamp, neighbour.strip()))\n",
    "    return set(cloudy_eop_timestamps)"
   ]
  },
  {
   "cell_type": "code",
   "execution_count": null,
   "metadata": {},
   "outputs": [],
   "source": [
    "cloudy_cyprus = get_cloudy_eop_timestamps(gdf_cyprus)\n",
    "cloudy_lithuania = get_cloudy_eop_timestamps(gdf_lithuania)"
   ]
  },
  {
   "cell_type": "code",
   "execution_count": null,
   "metadata": {},
   "outputs": [],
   "source": [
    "def is_shadow_v2(eopatch, timestamp_deimos, country):\n",
    "\n",
    "    if country == 'Lithuania':\n",
    "        return (timestamp_deimos.to_pydatetime(), eopatch) in cloudy_lithuania\n",
    "    elif country == 'Cyprus':\n",
    "        return (timestamp_deimos.to_pydatetime(), eopatch) in cloudy_cyprus\n",
    "    else:\n",
    "        raise ValueError(\"Wrong country\")"
   ]
  },
  {
   "cell_type": "code",
   "execution_count": null,
   "metadata": {},
   "outputs": [],
   "source": [
    "data_df"
   ]
  },
  {
   "cell_type": "code",
   "execution_count": null,
   "metadata": {},
   "outputs": [],
   "source": [
    "data_df['is_shadow_v2'] = data_df.apply(lambda x: is_shadow_v2(x.eopatch, x.timestamp_deimos, x.countries), axis=1)"
   ]
  },
  {
   "cell_type": "code",
   "execution_count": null,
   "metadata": {},
   "outputs": [],
   "source": [
    "data_df.is_shadow_v2.value_counts()"
   ]
  },
  {
   "cell_type": "code",
   "execution_count": null,
   "metadata": {},
   "outputs": [],
   "source": [
    "with filesystem.openbin('metadata/npz_info_small.pq', 'wb') as f:\n",
    "    data_df.to_parquet(f)"
   ]
  }
 ],
 "metadata": {
  "kernelspec": {
   "display_name": "Environment (conda_tensorflow2_p36)",
   "language": "python",
   "name": "conda_tensorflow2_p36"
  }
 },
 "nbformat": 4,
 "nbformat_minor": 2
}