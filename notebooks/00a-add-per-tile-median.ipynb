{
 "cells": [
  {
   "cell_type": "code",
   "execution_count": null,
   "metadata": {},
   "outputs": [],
   "source": [
    "from datetime import datetime"
   ]
  },
  {
   "cell_type": "code",
   "execution_count": null,
   "metadata": {
    "lines_to_next_cell": 2
   },
   "outputs": [],
   "source": [
    "import numpy as np\n",
    "import pandas as pd\n",
    "from eolearn.core import FeatureType\n",
    "from eolearn.io import ImportFromTiff\n",
    "from fs_s3fs import S3FS\n",
    "from sentinelhub import SHConfig\n",
    "from tqdm.auto import tqdm"
   ]
  },
  {
   "cell_type": "code",
   "execution_count": null,
   "metadata": {},
   "outputs": [],
   "source": [
    "AWS_ACCESS_KEY_ID = ''\n",
    "AWS_SECRET_ACCESS_KEY = ''\n",
    "BUCKET_NAME = ''\n",
    "LOC_ON_BUCKET = ''"
   ]
  },
  {
   "cell_type": "code",
   "execution_count": null,
   "metadata": {},
   "outputs": [],
   "source": [
    "filesystem = S3FS(bucket_name=BUCKET_NAME,\n",
    "                  aws_access_key_id=AWS_ACCESS_KEY_ID,\n",
    "                  aws_secret_access_key=AW)"
   ]
  },
  {
   "cell_type": "code",
   "execution_count": null,
   "metadata": {},
   "outputs": [],
   "source": [
    "config = SHConfig()\n",
    "config.aws_access_key_id = AWS_ACCESS_KEY_ID\n",
    "config.aws_secret_access_key = AWS_SECRET_ACCESS_KEY"
   ]
  },
  {
   "cell_type": "code",
   "execution_count": null,
   "metadata": {},
   "outputs": [],
   "source": [
    "metadata_ms4 = pd.read_parquet(filesystem.openbin('metadata/deimos_ms4_metadata.pq'))\n",
    "metadata_pan = pd.read_parquet(filesystem.openbin('metadata/deimos_pan_metadata.pq'))"
   ]
  },
  {
   "cell_type": "code",
   "execution_count": null,
   "metadata": {},
   "outputs": [],
   "source": [
    "medians_ms4 = []\n",
    "medians_pan = []\n",
    "for i, sensing_time in enumerate(tqdm(filesystem.listdir(LOC_ON_BUCKET))):\n",
    "    try:\n",
    "        folder = f's3://{BUCKET_NAME}/{LOC_ON_BUCKET}/{sensing_time}'\n",
    "        eop_ms4 = ImportFromTiff((FeatureType.DATA, 'MS4'), folder=folder, config=config).execute(\n",
    "            filename=['B04.tiff', 'B03.tiff', 'B02.tiff', 'B01.tiff'])\n",
    "        eop = ImportFromTiff((FeatureType.DATA, 'PAN'), folder=folder,\n",
    "                             config=config).execute(eop_ms4, filename='PAN.tiff')\n",
    "        eop.timestamp = [datetime.strptime(sensing_time, '%Y-%m-%d_%H-%M-%S')]\n",
    "\n",
    "        data = eop.data['MS4']\n",
    "        mask = data[..., 0] > 0\n",
    "        data_masked = data[mask, :]\n",
    "        median_ms4 = np.median(data_masked, axis=0)\n",
    "\n",
    "        medians_ms4.append({'sensing_time': eop.timestamp,\n",
    "                           'STX_MEDIAN_1': median_ms4[0], 'STX_MEDIAN_2': median_ms4[1],\n",
    "                            'STX_MEDIAN_3': median_ms4[2], 'STX_MEDIAN_4': median_ms4[3]})\n",
    "\n",
    "        data = eop.data['PAN']\n",
    "        mask = data[..., 0] > 0\n",
    "        data_masked = data[mask, :]\n",
    "        median_pan = np.median(data_masked, axis=0)\n",
    "        medians_pan.append({'sensing_time': eop.timestamp,\n",
    "                            'STX_MEDIAN_1': median_pan[0]})\n",
    "\n",
    "    except Exception as e:\n",
    "        print(e)\n",
    "        print(f'Failed to proces sensing time: {sensing_time}')"
   ]
  },
  {
   "cell_type": "code",
   "execution_count": null,
   "metadata": {},
   "outputs": [],
   "source": [
    "ms4 = pd.DataFrame(medians_ms4)\n",
    "ms4.sensing_time = ms4.sensing_time.apply(lambda x: x[0])\n",
    "ms4.sensing_time = ms4.sensing_time.apply(lambda x: str(x).replace(' ', 'T'))\n",
    "metadata_ms4_median = metadata_ms4.set_index('START_TIME').join(ms4.set_index('sensing_time')).reset_index()\n",
    "\n",
    "with filesystem.openbin('metadata/deimos_ms4_metadata.pq', 'wb') as f:\n",
    "    metadata_ms4_median.to_parquet(f)"
   ]
  },
  {
   "cell_type": "code",
   "execution_count": null,
   "metadata": {},
   "outputs": [],
   "source": [
    "pan = pd.DataFrame(medians_pan)\n",
    "pan.sensing_time = pan.sensing_time.apply(lambda x: x[0])\n",
    "pan.sensing_time = pan.sensing_time.apply(lambda x: str(x).replace(' ', 'T'))\n",
    "pan_median = metadata_pan.set_index('START_TIME').join(pan.set_index('sensing_time')).reset_index()\n",
    "\n",
    "with filesystem.openbin('metadata/deimos_pan_metadata.pq', 'wb') as f:\n",
    "    pan_median.to_parquet(f)"
   ]
  }
 ],
 "metadata": {
  "kernelspec": {
   "display_name": "Environment (conda_tensorflow2_p36)",
   "language": "python",
   "name": "conda_tensorflow2_p36"
  }
 },
 "nbformat": 4,
 "nbformat_minor": 2
}