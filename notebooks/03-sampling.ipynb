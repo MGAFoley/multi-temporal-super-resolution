{
 "cells": [
  {
   "cell_type": "code",
   "execution_count": null,
   "metadata": {
    "lines_to_end_of_cell_marker": 2
   },
   "outputs": [],
   "source": [
    "import os\n",
    "\n",
    "import numpy as np\n",
    "from eolearn.core import EOPatch, EOTask\n",
    "from fs_s3fs import S3FS\n",
    "from matplotlib import pyplot as plt\n",
    "from sentinelhub import BBox, SHConfig\n",
    "\n",
    "from sg_utils.processing import multiprocess"
   ]
  },
  {
   "cell_type": "markdown",
   "metadata": {},
   "source": [
    "# Config"
   ]
  },
  {
   "cell_type": "code",
   "execution_count": null,
   "metadata": {},
   "outputs": [],
   "source": [
    "config = SHConfig()\n",
    "config.instance_id = ''\n",
    "config.aws_access_key_id = ''\n",
    "config.aws_secret_access_key = ''"
   ]
  },
  {
   "cell_type": "code",
   "execution_count": null,
   "metadata": {},
   "outputs": [],
   "source": [
    "filesystem = S3FS(bucket_name='',\n",
    "                  aws_access_key_id=config.aws_access_key_id,\n",
    "                  aws_secret_access_key=config.aws_secret_access_key)"
   ]
  },
  {
   "cell_type": "markdown",
   "metadata": {},
   "source": [
    "# Execute sampling"
   ]
  },
  {
   "cell_type": "code",
   "execution_count": null,
   "metadata": {},
   "outputs": [],
   "source": [
    "class SamplePatchlets(EOTask):\n",
    "\n",
    "    MS4_DEIMOS_SCALING = 4\n",
    "\n",
    "    def __init__(self, s2_patchlet_size: int, num_samples: int):\n",
    "        self.s2_patchlet_size = s2_patchlet_size\n",
    "        self.num_samples = num_samples\n",
    "\n",
    "    def _calculate_sampled_bbox(self, bbox: BBox, r: int, c: int, s: int, resolution: float) -> BBox:\n",
    "        return BBox(((bbox.min_x + resolution * c,  bbox.max_y - resolution * (r + s)),\n",
    "                     (bbox.min_x + resolution * (c + s), bbox.max_y - resolution * r)),\n",
    "                    bbox.crs)\n",
    "\n",
    "    def _sample_s2(self, eop: EOPatch, row: int, col: int, size: int, resolution: float = 10):\n",
    "        sampled_eop = EOPatch(timestamp=eop.timestamp, scalar=eop.scalar, meta_info=eop.meta_info)\n",
    "        sampled_eop.data['CLP'] = eop.data['CLP'][:, row:row + size, col:col + size, :]\n",
    "        sampled_eop.mask['CLM'] = eop.mask['CLM'][:, row:row + size, col:col + size, :]\n",
    "        sampled_eop.mask['IS_DATA'] = eop.mask['IS_DATA'][:, row:row + size, col:col + size, :]\n",
    "        sampled_eop.data['BANDS'] = eop.data['BANDS'][:, row:row + size, col:col + size, :]\n",
    "        sampled_eop.scalar_timeless['PATCHLET_LOC'] = np.array([row, col, size])\n",
    "        sampled_eop.bbox = self._calculate_sampled_bbox(eop.bbox, r=row, c=col, s=size, resolution=resolution)\n",
    "        sampled_eop.meta_info['size_x'] = size\n",
    "        sampled_eop.meta_info['size_y'] = size\n",
    "        return sampled_eop\n",
    "\n",
    "    def _sample_deimos(self, eop: EOPatch, row: int, col: int, size: int, resolution: float = 2.5):\n",
    "        sampled_eop = EOPatch(timestamp=eop.timestamp, scalar=eop.scalar, meta_info=eop.meta_info)\n",
    "        sampled_eop.data['BANDS-DEIMOS'] = eop.data['BANDS-DEIMOS'][:, row:row + size, col:col + size, :]\n",
    "        sampled_eop.mask['CLM'] = eop.mask['CLM'][:, row:row + size, col:col + size, :]\n",
    "        sampled_eop.mask['IS_DATA'] = eop.mask['IS_DATA'][:, row:row + size, col:col + size, :]\n",
    "\n",
    "        sampled_eop.scalar_timeless['PATCHLET_LOC'] = np.array([row, col, size])\n",
    "\n",
    "        sampled_eop.bbox = self._calculate_sampled_bbox(eop.bbox, r=row, c=col, s=size, resolution=resolution)\n",
    "        sampled_eop.meta_info['size_x'] = size\n",
    "        sampled_eop.meta_info['size_y'] = size\n",
    "        return sampled_eop\n",
    "\n",
    "    def execute(self, eopatch_s2, eopatch_deimos, buffer=20,  seed=42):\n",
    "        _, n_rows, n_cols, _ = eopatch_s2.data['BANDS'].shape\n",
    "        np.random.seed(seed)\n",
    "        eops_out = []\n",
    "\n",
    "        for patchlet_num in range(0, self.num_samples):\n",
    "            row = np.random.randint(buffer, n_rows - self.s2_patchlet_size - buffer)\n",
    "            col = np.random.randint(buffer, n_cols - self.s2_patchlet_size - buffer)\n",
    "            sampled_s2 = self._sample_s2(eopatch_s2, row, col, self.s2_patchlet_size)\n",
    "            sampled_deimos = self._sample_deimos(eopatch_deimos,\n",
    "                                                 row*self.MS4_DEIMOS_SCALING,\n",
    "                                                 col*self.MS4_DEIMOS_SCALING,\n",
    "                                                 self.s2_patchlet_size*self.MS4_DEIMOS_SCALING)\n",
    "            eops_out.append((sampled_s2, sampled_deimos))\n",
    "        return eops_out"
   ]
  },
  {
   "cell_type": "code",
   "execution_count": null,
   "metadata": {},
   "outputs": [],
   "source": [
    "def sample_patch(eop_path_s2: str, eop_path_deimos,\n",
    "                 sampled_folder_s2, sampled_folder_deimos,\n",
    "                 s2_patchlet_size, num_samples, filesystem, buffer=20) -> None:\n",
    "\n",
    "    task = SamplePatchlets(s2_patchlet_size=s2_patchlet_size, num_samples=num_samples)\n",
    "    eop_name = os.path.basename(eop_path_s2)\n",
    "    try:\n",
    "        eop_s2 = EOPatch.load(eop_path_s2, filesystem=filesystem, lazy_loading=True)\n",
    "        eop_deimos = EOPatch.load(eop_path_deimos, filesystem=filesystem, lazy_loading=True)\n",
    "        patchlets = task.execute(eop_s2, eop_deimos, buffer=buffer)\n",
    "        for i, (patchlet_s2, patchlet_deimos) in enumerate(patchlets):\n",
    "\n",
    "            patchlet_s2.save(os.path.join(sampled_folder_s2, f'{eop_name}_{i}'),\n",
    "                             filesystem=filesystem)\n",
    "\n",
    "            patchlet_deimos.save(os.path.join(sampled_folder_deimos, f'{eop_name}_{i}'),\n",
    "                                 filesystem=filesystem)\n",
    "\n",
    "    except KeyError as e:\n",
    "        print(f'Key error. Could not find key: {e}')\n",
    "    except ValueError as e:\n",
    "        print(f'Value error. Value does not exist: {e}')"
   ]
  },
  {
   "cell_type": "code",
   "execution_count": null,
   "metadata": {},
   "outputs": [],
   "source": [
    "EOPS_S2 = ''\n",
    "EOPS_DEIMOS = ''\n",
    "\n",
    "SAMPLED_S2_PATH = ''\n",
    "SAMPLED_DEIMOS_3M_PATH = ''\n",
    "\n",
    "\n",
    "eop_names = filesystem.listdir(EOPS_DEIMOS)  # Both folder have the same EOPatches\n",
    "\n",
    "\n",
    "def sample_single(eop_name):\n",
    "    path_s2 = os.path.join(EOPS_S2, eop_name)\n",
    "    path_deimos = os.path.join(EOPS_DEIMOS, eop_name)\n",
    "\n",
    "    sample_patch(path_s2, path_deimos, SAMPLED_S2_PATH, SAMPLED_DEIMOS_3M_PATH,\n",
    "                 s2_patchlet_size=32, num_samples=140, filesystem=filesystem, buffer=20)\n",
    "\n",
    "\n",
    "multiprocess(sample_single, eop_names, max_workers=16)"
   ]
  },
  {
   "cell_type": "markdown",
   "metadata": {},
   "source": [
    "# Look at an example"
   ]
  },
  {
   "cell_type": "code",
   "execution_count": null,
   "metadata": {},
   "outputs": [],
   "source": [
    "sampled_s2 = EOPatch.load(os.path.join(SAMPLED_S2_PATH, 'eopatch-0000_122'), filesystem=filesystem)\n",
    "sampled_deimos = EOPatch.load(os.path.join(SAMPLED_DEIMOS_3M_PATH, 'eopatch-0000_122'), filesystem=filesystem)"
   ]
  },
  {
   "cell_type": "code",
   "execution_count": null,
   "metadata": {},
   "outputs": [],
   "source": [
    "def _get_closest_timestamp_idx(eop, ref_timestamp):\n",
    "    closest_idx = 0\n",
    "    for i, ts in enumerate(eop.timestamp):\n",
    "        if abs((ts - ref_timestamp).days) < abs((eop.timestamp[closest_idx] - ref_timestamp).days):\n",
    "            closest_idx = i\n",
    "    return closest_idx"
   ]
  },
  {
   "cell_type": "code",
   "execution_count": null,
   "metadata": {},
   "outputs": [],
   "source": [
    "fig, ax = plt.subplots(ncols=2, figsize=(15, 15))\n",
    "idx_deimos = 1\n",
    "closest_idx = _get_closest_timestamp_idx(sampled_s2, sampled_deimos.timestamp[idx_deimos])\n",
    "\n",
    "ax[0].imshow(sampled_s2.data['BANDS'][closest_idx][..., [2, 1, 0]] / 10000*3.5)\n",
    "ax[1].imshow(sampled_deimos.data['BANDS-DEIMOS'][idx_deimos][..., [2, 1, 0]] / 12000)"
   ]
  }
 ],
 "metadata": {
  "kernelspec": {
   "display_name": "Environment (conda_tensorflow2_p36)",
   "language": "python",
   "name": "conda_tensorflow2_p36"
  },
  "language_info": {
   "codemirror_mode": {
    "name": "ipython",
    "version": 3
   },
   "file_extension": ".py",
   "mimetype": "text/x-python",
   "name": "python",
   "nbconvert_exporter": "python",
   "pygments_lexer": "ipython3",
   "version": "3.6.5"
  }
 },
 "nbformat": 4,
 "nbformat_minor": 2
}