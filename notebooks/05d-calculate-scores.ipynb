{
 "cells": [
  {
   "cell_type": "code",
   "execution_count": null,
   "metadata": {},
   "outputs": [],
   "source": [
    "%reload_ext autoreload\n",
    "%autoreload 2\n",
    "\n",
    "%cd /home/ubuntu/dione-sr/"
   ]
  },
  {
   "cell_type": "code",
   "execution_count": null,
   "metadata": {},
   "outputs": [],
   "source": [
    "import os"
   ]
  },
  {
   "cell_type": "code",
   "execution_count": null,
   "metadata": {},
   "outputs": [],
   "source": [
    "import imageio\n",
    "import numpy as np\n",
    "import pandas as pd\n",
    "from fs_s3fs import S3FS\n",
    "from matplotlib import pyplot as plt\n",
    "from tqdm.auto import tqdm"
   ]
  },
  {
   "cell_type": "code",
   "execution_count": null,
   "metadata": {
    "lines_to_next_cell": 2
   },
   "outputs": [],
   "source": [
    "import cv2 as cv\n",
    "from hrnet.src.train import resize_batch_images\n",
    "from sr.data_loader import ImagesetDataset\n",
    "from sr.metrics import METRICS, minshift_loss\n",
    "from torch.utils.data import DataLoader"
   ]
  },
  {
   "cell_type": "code",
   "execution_count": null,
   "metadata": {},
   "outputs": [],
   "source": [
    "aws_access_key_id = ''\n",
    "aws_secret_access_key = ''"
   ]
  },
  {
   "cell_type": "code",
   "execution_count": null,
   "metadata": {},
   "outputs": [],
   "source": [
    "filesystem = S3FS(bucket_name='',\n",
    "                  aws_access_key_id=aws_access_key_id,\n",
    "                  aws_secret_access_key=aws_secret_access_key)"
   ]
  },
  {
   "cell_type": "code",
   "execution_count": null,
   "metadata": {},
   "outputs": [],
   "source": [
    "norm_deimos = {k: v for k, v in np.load(filesystem.openbin('metadata/deimos_min_max_norm.npz')).items()}\n",
    "norm_s2 = {k: v for k, v in np.load(filesystem.openbin('metadata/s2_min_max_norm.npz')).items()}\n",
    "\n",
    "data_df = pd.read_parquet(filesystem.openbin('metadata/npz_info_small.pq'))\n",
    "country_norm_df = pd.read_parquet(filesystem.openbin('metadata/s2_norm_per_country.pq'))"
   ]
  },
  {
   "cell_type": "code",
   "execution_count": null,
   "metadata": {},
   "outputs": [],
   "source": [
    "NPZ_FOLDER = ''"
   ]
  },
  {
   "cell_type": "code",
   "execution_count": null,
   "metadata": {
    "lines_to_next_cell": 2
   },
   "outputs": [],
   "source": [
    "data_df.head()"
   ]
  },
  {
   "cell_type": "code",
   "execution_count": null,
   "metadata": {},
   "outputs": [],
   "source": [
    "dataset = ImagesetDataset(imset_dir=NPZ_FOLDER,\n",
    "                          imset_npz_files=data_df.singleton_npz_filename.values,\n",
    "                          filesystem=filesystem,\n",
    "                          country_norm_df=country_norm_df,\n",
    "                          normalize=True,\n",
    "                          norm_deimos_npz=norm_deimos,\n",
    "                          norm_s2_npz=norm_s2,\n",
    "                          time_first=True\n",
    "                          )\n",
    "\n",
    "dataloader = DataLoader(dataset,\n",
    "                        batch_size=256,\n",
    "                        shuffle=False,\n",
    "                        num_workers=16,\n",
    "                        pin_memory=True)"
   ]
  },
  {
   "cell_type": "code",
   "execution_count": null,
   "metadata": {},
   "outputs": [],
   "source": [
    "SHIFTS = 6"
   ]
  },
  {
   "cell_type": "markdown",
   "metadata": {},
   "source": [
    "### test run on  a single batch"
   ]
  },
  {
   "cell_type": "code",
   "execution_count": null,
   "metadata": {},
   "outputs": [],
   "source": [
    "batch = next(iter(dataloader))"
   ]
  },
  {
   "cell_type": "code",
   "execution_count": null,
   "metadata": {},
   "outputs": [],
   "source": [
    "batch.keys()"
   ]
  },
  {
   "cell_type": "code",
   "execution_count": null,
   "metadata": {},
   "outputs": [],
   "source": [
    "lrs = batch['lr']\n",
    "hrs = batch['hr']\n",
    "names = batch['name']\n",
    "alphas = batch['alphas']"
   ]
  },
  {
   "cell_type": "code",
   "execution_count": null,
   "metadata": {},
   "outputs": [],
   "source": [
    "interpolated = resize_batch_images(lrs[:, -1, [-1], ...],\n",
    "                                   fx=3, fy=3, interpolation=cv.INTER_CUBIC)"
   ]
  },
  {
   "cell_type": "code",
   "execution_count": null,
   "metadata": {},
   "outputs": [],
   "source": [
    "mse = METRICS['MSE'](hrs[:, [-1], ...], interpolated.float())\n",
    "mse_shift, mse_ids = minshift_loss(hrs[:, [-1], ...], interpolated.float(),\n",
    "                                   shifts=SHIFTS, metric='MSE')\n",
    "mse_shift_c, mse_ids_c = minshift_loss(hrs[:, [-1], ...], interpolated.float(),\n",
    "                                       metric='MSE', shifts=SHIFTS, apply_correction=True)"
   ]
  },
  {
   "cell_type": "code",
   "execution_count": null,
   "metadata": {},
   "outputs": [],
   "source": [
    "fig, ax = plt.subplots(figsize=(10, 10))\n",
    "ax.scatter(mse_shift.numpy(), mse_shift_c.numpy(), alpha=.3, label='MSE shifted corrected')\n",
    "ax.scatter(mse_shift.numpy(), mse.numpy(), alpha=.3, label='MSE')\n",
    "ax.plot([0, 1], [0, 1], 'k')\n",
    "ax.grid()\n",
    "ax.legend()\n",
    "ax.set_xlabel('MSE shifted')"
   ]
  },
  {
   "cell_type": "code",
   "execution_count": null,
   "metadata": {},
   "outputs": [],
   "source": [
    "np.where(mse_shift_c.numpy() > .35)"
   ]
  },
  {
   "cell_type": "code",
   "execution_count": null,
   "metadata": {},
   "outputs": [],
   "source": [
    "np.where(mse_shift_c.numpy() < .02)"
   ]
  },
  {
   "cell_type": "code",
   "execution_count": null,
   "metadata": {},
   "outputs": [],
   "source": [
    "idx = 224\n",
    "\n",
    "img_de = hrs[idx, [-1], ...].numpy().squeeze()\n",
    "img_s2 = interpolated[idx].numpy().squeeze()"
   ]
  },
  {
   "cell_type": "code",
   "execution_count": null,
   "metadata": {},
   "outputs": [],
   "source": [
    "ids = mse_ids_c[idx, :].numpy().astype(np.uint8)\n",
    "print(ids)\n",
    "\n",
    "img_s2 = img_s2[SHIFTS//2:-SHIFTS//2, SHIFTS//2:-SHIFTS//2]\n",
    "img_de = img_de[ids[0]:ids[1], ids[2]:ids[3]]\n",
    "\n",
    "img_s2 = 255*(img_s2-img_s2.min())/(img_s2.max()-img_s2.min())\n",
    "img_de = 255*(img_de-img_de.min())/(img_de.max()-img_de.min())\n",
    "\n",
    "giffile = f's2-deimos-{names[idx]}.gif'\n",
    "imageio.mimsave(giffile,\n",
    "                [img_s2.astype(np.uint8), img_de.astype(np.uint8)],\n",
    "                duration=0.5)"
   ]
  },
  {
   "cell_type": "markdown",
   "metadata": {},
   "source": [
    "## Compute scores on entire dataset of patchlets"
   ]
  },
  {
   "cell_type": "code",
   "execution_count": null,
   "metadata": {},
   "outputs": [],
   "source": [
    "pq_filename = 'scores-bicubic-32x32.pq'\n",
    "\n",
    "if not os.path.exists(pq_filename):\n",
    "\n",
    "    scores = []\n",
    "    for sample in tqdm(dataloader):\n",
    "        hrs = sample['hr'][:, [-1], ...]\n",
    "\n",
    "        interpolated = resize_batch_images(sample['lr'][:, -1, [-1], ...],\n",
    "                                           fx=3, fy=3, interpolation=cv.INTER_CUBIC)\n",
    "        mse_ = METRICS['MSE'](hrs.float(), interpolated.float())\n",
    "        mse_shift, _ = minshift_loss(hrs.float(), interpolated.float(),\n",
    "                                     metric='MSE', shifts=SHIFTS)\n",
    "        mse_shift_c, _ = minshift_loss(hrs.float(), interpolated.float(),\n",
    "                                       metric='MSE', shifts=SHIFTS, apply_correction=True)\n",
    "        psnr_shift_c, _ = minshift_loss(hrs.float(), interpolated.float(),\n",
    "                                        metric='PSNR', shifts=SHIFTS, apply_correction=True)\n",
    "        ssim_shift_c, _ = minshift_loss(hrs.float(), interpolated.float(),\n",
    "                                        metric='SSIM', shifts=SHIFTS, apply_correction=True)\n",
    "\n",
    "        for name, mse, mse_s, mse_sc, psnr, ssim in zip(sample['name'],\n",
    "                                                        mse_,\n",
    "                                                        mse_shift,\n",
    "                                                        mse_shift_c,\n",
    "                                                        psnr_shift_c,\n",
    "                                                        ssim_shift_c):\n",
    "            scores.append({'name': name,\n",
    "                           'MSE': mse.numpy().astype(np.float32),\n",
    "                           'MSE_s': mse_s.numpy().astype(np.float32),\n",
    "                           'MSE_s_c': mse_sc.numpy().astype(np.float32),\n",
    "                           'PSNR_s_c': psnr.numpy().astype(np.float32),\n",
    "                           'SSIM_s_c': ssim.numpy().astype(np.float32)})\n",
    "\n",
    "    df = pd.DataFrame(scores)\n",
    "    print(len(df))\n",
    "\n",
    "    df.MSE = df.MSE.astype(np.float32)\n",
    "    df.MSE_s = df.MSE_s.astype(np.float32)\n",
    "    df.MSE_s_c = df.MSE_s_c.astype(np.float32)\n",
    "    df.PSNR_s_c = df.PSNR_s_c.astype(np.float32)\n",
    "    df.SSIM_s_c = df.SSIM_s_c.astype(np.float32)\n",
    "\n",
    "    df.to_parquet(pq_filename)\n",
    "else:\n",
    "    df = pd.read_parquet(pq_filename)"
   ]
  },
  {
   "cell_type": "code",
   "execution_count": null,
   "metadata": {},
   "outputs": [],
   "source": [
    "len(df)"
   ]
  },
  {
   "cell_type": "code",
   "execution_count": null,
   "metadata": {},
   "outputs": [],
   "source": [
    "df.head()"
   ]
  },
  {
   "cell_type": "code",
   "execution_count": null,
   "metadata": {},
   "outputs": [],
   "source": [
    "fig, ax = plt.subplots(figsize=(15, 10))\n",
    "df.MSE.hist(ax=ax, alpha=.3, bins=50, range=(0, 1), label='MSE')\n",
    "df.MSE_s.hist(ax=ax, alpha=.3, bins=50, range=(0, 1), label='MSE_s')\n",
    "df.MSE_s_c.hist(ax=ax, alpha=.3, bins=50, range=(0, 1), label='MSE_s_c')\n",
    "ax.legend()"
   ]
  },
  {
   "cell_type": "code",
   "execution_count": null,
   "metadata": {},
   "outputs": [],
   "source": [
    "fig, ax = plt.subplots(figsize=(15, 10))\n",
    "ax.scatter(df.MSE_s_c, df.SSIM_s_c, alpha=.1)"
   ]
  },
  {
   "cell_type": "code",
   "execution_count": null,
   "metadata": {},
   "outputs": [],
   "source": [
    "fig, ax = plt.subplots(figsize=(15, 10))\n",
    "ax.scatter(df.PSNR_s_c, df.SSIM_s_c, alpha=.1)"
   ]
  },
  {
   "cell_type": "code",
   "execution_count": null,
   "metadata": {},
   "outputs": [],
   "source": [
    "data_df.rename(columns={'singleton_npz_filename': 'name'}, inplace=True)"
   ]
  },
  {
   "cell_type": "code",
   "execution_count": null,
   "metadata": {},
   "outputs": [],
   "source": [
    "scores_df = pd.merge(df, data_df, on='name')"
   ]
  },
  {
   "cell_type": "code",
   "execution_count": null,
   "metadata": {},
   "outputs": [],
   "source": [
    "scores_df.head()"
   ]
  }
 ],
 "metadata": {
  "kernelspec": {
   "display_name": "Environment (conda_pytorch_p36)",
   "language": "python",
   "name": "conda_pytorch_p36"
  }
 },
 "nbformat": 4,
 "nbformat_minor": 2
}