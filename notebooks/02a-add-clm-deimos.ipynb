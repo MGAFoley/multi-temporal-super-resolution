{
 "cells": [
  {
   "cell_type": "code",
   "execution_count": null,
   "metadata": {},
   "outputs": [],
   "source": [
    "import os\n",
    "import numpy as np\n",
    "from eolearn.core import EOPatch, FeatureType, OverwritePermission\n",
    "from fs_s3fs import S3FS\n",
    "from matplotlib import pyplot as plt\n",
    "from sentinelhub import SHConfig\n",
    "from sg_utils.processing import multiprocess"
   ]
  },
  {
   "cell_type": "code",
   "execution_count": null,
   "metadata": {},
   "outputs": [],
   "source": [
    "config = SHConfig()\n",
    "config.sh_client_id = ''\n",
    "config.sh_client_secret = ''\n",
    "config.instance_id = ''\n",
    "config.aws_access_key_id = ''\n",
    "config.aws_secret_access_key = ''"
   ]
  },
  {
   "cell_type": "code",
   "execution_count": null,
   "metadata": {},
   "outputs": [],
   "source": [
    "filesystem = S3FS(bucket_name='',\n",
    "                  aws_access_key_id=config.aws_access_key_id,\n",
    "                  aws_secret_access_key=config.aws_secret_access_key)"
   ]
  },
  {
   "cell_type": "code",
   "execution_count": null,
   "metadata": {},
   "outputs": [],
   "source": [
    "DIR_DEIMOS = ''"
   ]
  },
  {
   "cell_type": "code",
   "execution_count": null,
   "metadata": {},
   "outputs": [],
   "source": [
    "def _clms_eops(eop, threshold=95, band=0):\n",
    "\n",
    "    clms = []\n",
    "    for i, ts in enumerate(eop.timestamp):\n",
    "        gain = float(eop.meta_info['metadata'][ts]['MS4']['PHYSICAL_INFO'][f'PHYSICAL_GAIN_{band+1}'])\n",
    "        bias = float(eop.meta_info['metadata'][ts]['MS4']['PHYSICAL_INFO'][f'PHYSICAL_BIAS_{band+1}'])\n",
    "        clms.append(((eop.data['BANDS-DEIMOS'][i, ..., band]*gain + bias) > threshold))\n",
    "    return np.array(clms)"
   ]
  },
  {
   "cell_type": "code",
   "execution_count": null,
   "metadata": {},
   "outputs": [],
   "source": [
    "def add_clm(eop_path):\n",
    "    try:\n",
    "        deim_eop = EOPatch.load(eop_path, filesystem=filesystem, lazy_loading=True)\n",
    "        deim_eop.mask['CLM'] = np.expand_dims(_clms_eops(deim_eop), -1)\n",
    "        deim_eop.save(path=eop_path, filesystem=filesystem, features=[(FeatureType.MASK, 'CLM')],\n",
    "                      overwrite_permission=OverwritePermission.OVERWRITE_FEATURES)\n",
    "        return True, eop_path\n",
    "    except Exception:\n",
    "        return False, eop_path"
   ]
  },
  {
   "cell_type": "code",
   "execution_count": null,
   "metadata": {},
   "outputs": [],
   "source": [
    "eops_paths = [os.path.join(DIR_DEIMOS, x) for x in filesystem.listdir(DIR_DEIMOS)]"
   ]
  },
  {
   "cell_type": "code",
   "execution_count": null,
   "metadata": {},
   "outputs": [],
   "source": [
    "results = multiprocess(add_clm, eops_paths, max_workers=4)"
   ]
  },
  {
   "cell_type": "code",
   "execution_count": null,
   "metadata": {
    "lines_to_next_cell": 2
   },
   "outputs": [],
   "source": [
    "deim_eop = EOPatch.load(eops_paths[850], filesystem=filesystem, lazy_loading=True)"
   ]
  },
  {
   "cell_type": "code",
   "execution_count": null,
   "metadata": {},
   "outputs": [],
   "source": [
    "fig, ax = plt.subplots(2, figsize=(15, 15))\n",
    "tidx = 0\n",
    "ax[0].imshow(deim_eop.data['BANDS-DEIMOS'][tidx][..., [2, 1, 0]].squeeze()*(1/10000))\n",
    "ax[1].imshow(deim_eop.mask['CLM'][tidx].squeeze())\n",
    "ax[1].set_title(f\"CCOV: {deim_eop.mask['CLM'][tidx].mean()}\")"
   ]
  }
 ],
 "metadata": {
  "kernelspec": {
   "display_name": "Environment (conda_tensorflow2_p36)",
   "language": "python",
   "name": "conda_tensorflow2_p36"
  },
  "language_info": {
   "codemirror_mode": {
    "name": "ipython",
    "version": 3
   },
   "file_extension": ".py",
   "mimetype": "text/x-python",
   "name": "python",
   "nbconvert_exporter": "python",
   "pygments_lexer": "ipython3",
   "version": "3.6.5"
  }
 },
 "nbformat": 4,
 "nbformat_minor": 2
}